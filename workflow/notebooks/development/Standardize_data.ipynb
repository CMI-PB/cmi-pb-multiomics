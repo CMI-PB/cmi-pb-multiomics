{
 "cells": [
  {
   "cell_type": "code",
   "execution_count": 2,
   "id": "f4a0440e",
   "metadata": {},
   "outputs": [],
   "source": [
    "import os \n",
    "import pandas as pd \n",
    "import numpy as np \n",
    "os.chdir('/mnt/BioHome/jreyna/jreyna/projects/cmi-pb-preds/')\n",
    "outdir = 'results/main/cmi_pb_datasets/processed/'\n",
    "os.makedirs(outdir, exist_ok=True)"
   ]
  },
  {
   "cell_type": "code",
   "execution_count": 3,
   "id": "97930d64",
   "metadata": {},
   "outputs": [],
   "source": [
    "assays = ('cytof', 'olink', 'rnaseq')\n",
    "longnames = ('live_cell_percentages', 'olink_prot_exp', 'rnaseq')"
   ]
  },
  {
   "cell_type": "code",
   "execution_count": 4,
   "id": "ff8fee6a",
   "metadata": {},
   "outputs": [],
   "source": [
    "# loading gencode data\n",
    "gencode = pd.read_table('results/refs/gencode/gencode.v38lift37.annotation.protein_coding.bed', header=None)\n",
    "gencode.columns = ['chr', 'start', 'end', 'strand', 'gene_id', 'gene_name']\n",
    "gencode['gene_nonversioned_id'] = gencode['gene_id'].str.replace('\\..*', '')"
   ]
  },
  {
   "cell_type": "markdown",
   "id": "d53da804",
   "metadata": {},
   "source": [
    "## Load the 2020 data"
   ]
  },
  {
   "cell_type": "code",
   "execution_count": 32,
   "id": "e5a72f1e",
   "metadata": {},
   "outputs": [],
   "source": [
    "twenty_data = {}\n",
    "\n",
    "# get meta master table\n",
    "for metatable in ('subject', 'specimen'): \n",
    "    fn = 'results/main/cmi_pb_datasets/raw/2020LD_{}.csv'.format(metatable)\n",
    "    df = pd.read_table(fn, sep=',')\n",
    "    twenty_data[metatable] = df\n",
    "    \n",
    "subjects = twenty_data['subject']\n",
    "specimen = twenty_data['specimen']\n",
    "master_meta = subjects.merge(specimen, on='subject_id')\n",
    "master_meta = master_meta[['subject_id',\n",
    "                           'specimen_id',\n",
    "                           'infancy_vac',\n",
    "                           'biological_sex',\n",
    "                           'year_of_birth',\n",
    "                           'date_of_boost',\n",
    "                           'actual_day_relative_to_boost',\n",
    "                           'planned_day_relative_to_boost',\n",
    "                           'ethnicity',\n",
    "                           'race',\n",
    "                           'dataset',\n",
    "                           'specimen_type',\n",
    "                           'visit']]\n",
    "twenty_data['master_meta'] = master_meta\n",
    "\n",
    "# save meta\n",
    "meta_fn = os.path.join(interm_dir, 'meta.2020.pivoted.tsv.gz')\n",
    "twenty_data['master_meta'].to_csv(meta_fn, sep='\\t')"
   ]
  },
  {
   "cell_type": "code",
   "execution_count": null,
   "id": "78dbd00d",
   "metadata": {},
   "outputs": [],
   "source": [
    "for i, longname in enumerate(longnames): \n",
    "    fn = 'results/main/cmi_pb_datasets/raw/2020LD_{}.csv'.format(longname)\n",
    "    df = pd.read_table(fn, sep=',')\n",
    "    \n",
    "    if assays[i] == 'rnaseq':\n",
    "        df.loc[:, 'ensembl_gene_id'] = df.loc[:, 'versioned_ensembl_gene_id'].str.replace('\\.[0-9]+', '')\n",
    "        df = df.pivot(index='specimen_id', columns='ensembl_gene_id', values='tpm')\n",
    "        df = master_meta.merge(df, on='specimen_id')\n",
    "        \n",
    "    elif assays[i] == 'cytof':\n",
    "        df = df.pivot(index='specimen_id', columns='cell_type_name', values='percent_live_cell')\n",
    "        df = master_meta.merge(df, on='specimen_id')\n",
    "        \n",
    "    else:\n",
    "        # Still getting duplicate specimens? \n",
    "        df = df[df['unit'] == \"Normalized Protein eXpression\"]\n",
    "        df = df[df['quality_control'] == 'Pass']\n",
    "        df = df[df['protein_expression'] > df['lower_limit_of_quantitation']]\n",
    "        df = df.pivot(index='specimen_id', columns='uniprot_id', values='protein_expression')\n",
    "        df = master_meta.merge(df, on='specimen_id')        \n",
    "    twenty_data[assays[i]] = df\n",
    "    "
   ]
  },
  {
   "cell_type": "code",
   "execution_count": null,
   "id": "5aae310b",
   "metadata": {},
   "outputs": [
    {
     "name": "stdout",
     "output_type": "stream",
     "text": [
      "subject 60\n",
      "specimen 60\n",
      "master_meta 60\n",
      "cytof 22\n",
      "olink 18\n",
      "rnaseq 38\n"
     ]
    }
   ],
   "source": [
    "for assay, df in twenty_data.items():\n",
    "    print(assay, df.subject_id.nunique())"
   ]
  },
  {
   "cell_type": "code",
   "execution_count": null,
   "id": "022e35db",
   "metadata": {},
   "outputs": [
    {
     "name": "stdout",
     "output_type": "stream",
     "text": [
      "cytof\n",
      "0\n",
      "1\n",
      "3\n",
      "7\n",
      "14\n",
      "olink\n",
      "0\n",
      "1\n",
      "3\n",
      "7\n",
      "14\n",
      "rnaseq\n",
      "0\n",
      "1\n",
      "3\n",
      "7\n",
      "14\n"
     ]
    }
   ],
   "source": [
    "for assay, df in twenty_data.items():\n",
    "    if assay in ['cytof', 'olink', 'rnaseq']:\n",
    "        print(assay)\n",
    "        for day, day_df in df.groupby('planned_day_relative_to_boost'):\n",
    "            print(day)\n",
    "            outfn = os.path.join(interm_dir, '{}.2020.day{}.pivoted.tsv.gz'.format(assay, day))\n",
    "            day_df.to_csv(outfn, sep='\\t')"
   ]
  },
  {
   "cell_type": "markdown",
   "id": "27f3f979",
   "metadata": {},
   "source": [
    "# Load the 2021 data"
   ]
  },
  {
   "cell_type": "code",
   "execution_count": null,
   "id": "1367bde4",
   "metadata": {},
   "outputs": [],
   "source": [
    "twentyone_data = {}\n",
    "\n",
    "# get meta master table\n",
    "for metatable in ('subject', 'specimen'): \n",
    "    fn = 'results/main/cmi_pb_datasets/raw/2021BD_{}.csv'.format(metatable)\n",
    "    df = pd.read_table(fn, sep=',')\n",
    "    twentyone_data[metatable] = df\n",
    "    \n",
    "subjects = twentyone_data['subject']\n",
    "specimen = twentyone_data['specimen']\n",
    "master_meta = subjects.merge(specimen, on='subject_id')\n",
    "master_meta = master_meta[['subject_id',\n",
    "                           'specimen_id',\n",
    "                           'infancy_vac',\n",
    "                           'biological_sex',\n",
    "                           'year_of_birth',\n",
    "                           'date_of_boost',\n",
    "                           'actual_day_relative_to_boost',\n",
    "                           'planned_day_relative_to_boost',\n",
    "                           'ethnicity',\n",
    "                           'race',\n",
    "                           'dataset',\n",
    "                           'specimen_type',\n",
    "                           'visit']]\n",
    "twentyone_data['master_meta'] = master_meta"
   ]
  },
  {
   "cell_type": "code",
   "execution_count": null,
   "id": "b4efa6f3",
   "metadata": {},
   "outputs": [],
   "source": [
    "for i, longname in enumerate(longnames): \n",
    "    fn = 'results/main/cmi_pb_datasets/raw/2021BD_{}.csv'.format(longname)\n",
    "    df = pd.read_table(fn, sep=',')\n",
    "    \n",
    "    if assays[i] == 'rnaseq':\n",
    "        df.loc[:, 'ensembl_gene_id'] = df.loc[:, 'versioned_ensembl_gene_id'].str.replace('\\.[0-9]+', '')\n",
    "        df = df.pivot(index='specimen_id', columns='ensembl_gene_id', values='tpm')\n",
    "        df = master_meta.merge(df, on='specimen_id')\n",
    "                \n",
    "    elif assays[i] == 'cytof':\n",
    "        df = df.pivot(index='specimen_id', columns='cell_type_name', values='percent_live_cell')\n",
    "        df = master_meta.merge(df, on='specimen_id')\n",
    "        \n",
    "    else:\n",
    "        df = df.pivot(index='specimen_id', columns='uniprot_id', values='protein_expression')\n",
    "        df = master_meta.merge(df, on='specimen_id')        \n",
    "    twentyone_data[assays[i]] = df\n",
    "    "
   ]
  },
  {
   "cell_type": "code",
   "execution_count": null,
   "id": "1cb891b7",
   "metadata": {
    "scrolled": true
   },
   "outputs": [],
   "source": [
    "for assay, df in twentyone_data.items():\n",
    "    print(assay, df.subject_id.nunique())"
   ]
  },
  {
   "cell_type": "code",
   "execution_count": null,
   "id": "711275f8",
   "metadata": {},
   "outputs": [],
   "source": [
    "interm_dir = os.path.join(outdir, 'full/')\n",
    "os.makedirs(interm_dir, exist_ok=True)\n",
    "\n",
    "# save cytof \n",
    "cytof_fn = os.path.join(interm_dir, 'cytof.2021.day0.pivoted.tsv.gz')\n",
    "twentyone_data['cytof'].to_csv(cytof_fn, sep='\\t')\n",
    "\n",
    "# save olink\n",
    "olink_fn = os.path.join(interm_dir, 'olink.2021.day0.pivoted.tsv.gz')\n",
    "twentyone_data['olink'].to_csv(olink_fn, sep='\\t')\n",
    "\n",
    "# save rnaseq\n",
    "rnaseq_fn = os.path.join(interm_dir, 'rnaseq.2021.day0.pivoted.tsv.gz')\n",
    "twentyone_data['rnaseq'].to_csv(rnaseq_fn, sep='\\t')\n",
    "\n",
    "# save meta\n",
    "meta_fn = os.path.join(interm_dir, 'meta.2021.pivoted.tsv.gz')\n",
    "twentyone_data['master_meta'].to_csv(meta_fn, sep='\\t')"
   ]
  },
  {
   "cell_type": "code",
   "execution_count": null,
   "id": "a7ac8229",
   "metadata": {},
   "outputs": [],
   "source": [
    "# summary21 = []\n",
    "# for assay, df in twentyone_data.items():\n",
    "#     summary21.append([assay, df.subject_id.nunique()])\n",
    "\n",
    "# summary20 = []\n",
    "# for assay, df in twenty_data.items():\n",
    "#     summary20.append([df.subject_id.nunique()])\n",
    "\n",
    "# summary = pd.concat([pd.DataFrame(summary21), pd.DataFrame(summary20)], axis=1)\n",
    "# summary.columns = ('table', 'nsamples21', 'nsamples20')\n",
    "# summary = summary[['table', 'nsamples20', 'nsamples21']]"
   ]
  },
  {
   "cell_type": "code",
   "execution_count": null,
   "id": "e01d81e1",
   "metadata": {},
   "outputs": [],
   "source": [
    "# fn = 'results/main/cmi_pb_datasets/2020LD_{}.csv'.format('olink_prot_exp')\n",
    "# df = pd.read_table(fn, sep=',')"
   ]
  },
  {
   "cell_type": "markdown",
   "id": "2469c53e",
   "metadata": {},
   "source": [
    "## Standardize RNA-seq"
   ]
  },
  {
   "cell_type": "markdown",
   "id": "f914ba00",
   "metadata": {},
   "source": [
    "The RNA-seq dataset includes a lot more variables and processing so there are many steps we are including for standardization:\n",
    "\n",
    "    1) remove zero variance genes,\n",
    "    2) remove mitochondrial genes, \n",
    "    3) keep expressed genes (defined as those with TPM > 1) in more than a certain proportion of people (cut_filter)\n",
    "    4) intersect genes across 2020 and 2021 and finally make harmonized 2020 and 2021 tables "
   ]
  },
  {
   "cell_type": "code",
   "execution_count": null,
   "id": "93adf182",
   "metadata": {},
   "outputs": [],
   "source": [
    "# load gene data to find mitochondrial genes\n",
    "mito_genes = gencode.loc[(gencode.chr == 'chrM'), 'gene_nonversioned_id']\n",
    "mito_genes = set(mito_genes.unique().tolist())"
   ]
  },
  {
   "cell_type": "code",
   "execution_count": null,
   "id": "963f46e8",
   "metadata": {},
   "outputs": [],
   "source": [
    "# value used across both RNA-seq datasets\n",
    "cut_filter = 0.3"
   ]
  },
  {
   "cell_type": "markdown",
   "id": "c7f38f59",
   "metadata": {},
   "source": [
    "### RNA-seq for 2020"
   ]
  },
  {
   "cell_type": "code",
   "execution_count": null,
   "id": "4d3002ae",
   "metadata": {},
   "outputs": [],
   "source": [
    "# find zero variance genes \n",
    "tmp = twenty_data['rnaseq']\n",
    "tmp = tmp.loc[:, tmp.columns.str.match('ENSG')]\n",
    "tmpvars = tmp.var()\n",
    "zero_var_genes = tmpvars[(tmpvars == 0)]\n",
    "zero_var_genes = set(zero_var_genes.index.tolist())"
   ]
  },
  {
   "cell_type": "code",
   "execution_count": null,
   "id": "1f5a76c9",
   "metadata": {},
   "outputs": [],
   "source": [
    "# locate genes which are expressed\n",
    "# defined as genes with TPM > 1 in more than 30% of samples \n",
    "expressed_genes = (tmp > 1).sum() > cut_filter * tmp.shape[0]\n",
    "expressed_genes = set(expressed_genes.index[expressed_genes.values.tolist()])"
   ]
  },
  {
   "cell_type": "code",
   "execution_count": null,
   "id": "06ccf776",
   "metadata": {},
   "outputs": [],
   "source": [
    "# get the final list of genes \n",
    "keep_genes = expressed_genes.difference(mito_genes).difference(zero_var_genes)\n",
    "keep_genes = keep_genes.intersection(gencode.gene_nonversioned_id.values.tolist())"
   ]
  },
  {
   "cell_type": "code",
   "execution_count": 20,
   "id": "aa9ad603",
   "metadata": {},
   "outputs": [],
   "source": [
    "# make the final new_rnaseq table\n",
    "new_rnaseq1 = twenty_data['rnaseq'].loc[:, ~twenty_data['rnaseq'].columns.str.match('ENSG')]\n",
    "new_rnaseq2 = twenty_data['rnaseq'].loc[:, keep_genes]\n",
    "new_rnaseq = pd.concat([new_rnaseq1, new_rnaseq2], axis=1)\n",
    "twenty_data['rnaseq_std'] = pd.concat([new_rnaseq1, new_rnaseq2], axis=1)"
   ]
  },
  {
   "cell_type": "markdown",
   "id": "e3d96165",
   "metadata": {},
   "source": [
    "### RNA-seq for 2021"
   ]
  },
  {
   "cell_type": "code",
   "execution_count": 21,
   "id": "3d4f32f0",
   "metadata": {},
   "outputs": [],
   "source": [
    "# find zero variance genes \n",
    "tmp = twentyone_data['rnaseq']\n",
    "tmp = tmp.loc[:, tmp.columns.str.match('ENSG')]\n",
    "tmpvars = tmp.var()\n",
    "zero_var_genes = tmpvars[(tmpvars == 0)]\n",
    "zero_var_genes = set(zero_var_genes.index.tolist())"
   ]
  },
  {
   "cell_type": "code",
   "execution_count": 22,
   "id": "dd8a411f",
   "metadata": {},
   "outputs": [],
   "source": [
    "# locate genes which are expressed\n",
    "# defined as genes with TPM > 1 in more than 30% of samples \n",
    "expressed_genes = (tmp > 1).sum() > cut_filter * tmp.shape[0]\n",
    "expressed_genes = set(expressed_genes.index[expressed_genes.values.tolist()])"
   ]
  },
  {
   "cell_type": "code",
   "execution_count": 23,
   "id": "4491e733",
   "metadata": {},
   "outputs": [],
   "source": [
    "# get the final list of genes \n",
    "keep_genes = expressed_genes.difference(mito_genes).difference(zero_var_genes)\n",
    "keep_genes = keep_genes.intersection(gencode.gene_nonversioned_id.values.tolist())"
   ]
  },
  {
   "cell_type": "code",
   "execution_count": 24,
   "id": "2f405b2a",
   "metadata": {},
   "outputs": [],
   "source": [
    "# make the final new_rnaseq table\n",
    "new_rnaseq1 = twentyone_data['rnaseq'].loc[:, ~twenty_data['rnaseq'].columns.str.match('ENSG')]\n",
    "new_rnaseq2 = twentyone_data['rnaseq'].loc[:, keep_genes]\n",
    "twentyone_data['rnaseq_std'] = pd.concat([new_rnaseq1, new_rnaseq2], axis=1)"
   ]
  },
  {
   "cell_type": "markdown",
   "id": "03fb76af",
   "metadata": {},
   "source": [
    "### Harmonize the RNA-seq datasets "
   ]
  },
  {
   "cell_type": "code",
   "execution_count": 25,
   "id": "16da566d",
   "metadata": {},
   "outputs": [],
   "source": [
    "# get the shared genes between 2020 and 2021\n",
    "twenty_genes = set(twenty_data['rnaseq_std'].columns.str.extract('(ENSG[0-9]+)').dropna()[0])\n",
    "twentyone_genes = set(twentyone_data['rnaseq_std'].columns.str.extract('(ENSG[0-9]+)').dropna()[0])\n",
    "shared_genes = twenty_genes.intersection(twentyone_genes)"
   ]
  },
  {
   "cell_type": "code",
   "execution_count": 26,
   "id": "aba1b9b8",
   "metadata": {},
   "outputs": [],
   "source": [
    "# getting harmonized for 2020 \n",
    "new_rnaseq1 = twenty_data['rnaseq'].loc[:, ~twenty_data['rnaseq'].columns.str.match('ENSG')]\n",
    "new_rnaseq2 = twenty_data['rnaseq'].loc[:, shared_genes]\n",
    "twenty_data['rnaseq_harmonized'] = pd.concat([new_rnaseq1, new_rnaseq2], axis=1)\n",
    "\n",
    "# getting harmonized for 2021\n",
    "new_rnaseq1 = twentyone_data['rnaseq'].loc[:, ~twentyone_data['rnaseq'].columns.str.match('ENSG')]\n",
    "new_rnaseq2 = twentyone_data['rnaseq'].loc[:, shared_genes]\n",
    "twentyone_data['rnaseq_harmonized'] = pd.concat([new_rnaseq1, new_rnaseq2], axis=1)"
   ]
  },
  {
   "cell_type": "code",
   "execution_count": 27,
   "id": "26d3be7f",
   "metadata": {},
   "outputs": [],
   "source": [
    "# save harmonize rnaseq\n",
    "harmony_dir = os.path.join(outdir, 'harmonized/')\n",
    "os.makedirs(harmony_dir, exist_ok=True)\n",
    "\n",
    "rnaseq_2020_fn = os.path.join(harmony_dir, 'rnaseq.2020.day0.pivoted.tsv.gz')\n",
    "twenty_data['rnaseq_std'].to_csv(rnaseq_fn, sep='\\t')"
   ]
  },
  {
   "cell_type": "code",
   "execution_count": 28,
   "id": "36e78936",
   "metadata": {},
   "outputs": [],
   "source": [
    "rnaseq_2021_fn = os.path.join(harmony_dir, 'rnaseq.2021.day0.pivoted.tsv.gz')\n",
    "twenty_data['rnaseq_std'].to_csv(rnaseq_fn, sep='\\t')"
   ]
  },
  {
   "cell_type": "markdown",
   "id": "0a8f4918",
   "metadata": {},
   "source": [
    "## Standardize all other baseline datasets"
   ]
  },
  {
   "cell_type": "markdown",
   "id": "c0f2cb38",
   "metadata": {},
   "source": [
    "As of right now, we will use the pivoted data as is (interm). I will softlink the intermediate files over to the harmonized directory."
   ]
  },
  {
   "cell_type": "code",
   "execution_count": 38,
   "id": "eb4f5dec",
   "metadata": {},
   "outputs": [],
   "source": [
    "# SKIPPING AB TITERS FOR NOW\n",
    "# # save abtiters 2020\n",
    "# old_abtiters_fn = os.path.abspath(os.path.join(interm_dir, 'abtiters.2020.day0.pivoted.tsv.gz'))\n",
    "# new_abtiters_fn = os.path.join(harmony_dir, 'abtiters.2020.day0.pivoted.tsv.gz')\n",
    "# if not os.path.islink(new_abtiters_fn):\n",
    "#     os.symlink(old_abtiters_fn, new_abtiters_fn)\n",
    "\n",
    "# # save abtiters 2021\n",
    "# old_abtiters_fn = os.path.abspath(os.path.join(interm_dir, 'abtiters.2021.day0.pivoted.tsv.gz'))\n",
    "# new_abtiters_fn = os.path.join(harmony_dir, 'abtiters.2021.day0.pivoted.tsv.gz')\n",
    "# if not os.path.islink(new_abtiters_fn):\n",
    "#     os.symlink(old_abtiters_fn, new_abtiters_fn)"
   ]
  },
  {
   "cell_type": "code",
   "execution_count": 36,
   "id": "c7d473f4",
   "metadata": {},
   "outputs": [],
   "source": [
    "# save cytof 2020\n",
    "old_cytof_fn = os.path.abspath(os.path.join(interm_dir, 'cytof.2020.day0.pivoted.tsv.gz'))\n",
    "new_cytof_fn = os.path.join(harmony_dir, 'cytof.2020.day0.pivoted.tsv.gz')\n",
    "if not os.path.islink(new_cytof_fn):\n",
    "    os.symlink(old_cytof_fn, new_cytof_fn)\n",
    "\n",
    "# save cytof 2021\n",
    "old_cytof_fn = os.path.abspath(os.path.join(interm_dir, 'cytof.2021.day0.pivoted.tsv.gz'))\n",
    "new_cytof_fn = os.path.join(harmony_dir, 'cytof.2021.day0.pivoted.tsv.gz')\n",
    "if not os.path.islink(new_cytof_fn):\n",
    "    os.symlink(old_cytof_fn, new_cytof_fn)"
   ]
  },
  {
   "cell_type": "code",
   "execution_count": 37,
   "id": "c39f5347",
   "metadata": {},
   "outputs": [],
   "source": [
    "# save olink 2020\n",
    "old_olink_fn = os.path.abspath(os.path.join(interm_dir, 'olink.2020.day0.pivoted.tsv.gz'))\n",
    "new_olink_fn = os.path.join(harmony_dir, 'olink.2020.day0.pivoted.tsv.gz')\n",
    "if not os.path.islink(new_olink_fn):\n",
    "    os.symlink(old_olink_fn, new_olink_fn)\n",
    "\n",
    "# save olink 2021\n",
    "old_olink_fn = os.path.abspath(os.path.join(interm_dir, 'olink.2021.day0.pivoted.tsv.gz'))\n",
    "new_olink_fn = os.path.join(harmony_dir, 'olink.2021.day0.pivoted.tsv.gz')\n",
    "if not os.path.islink(new_olink_fn):\n",
    "    os.symlink(old_olink_fn, new_olink_fn)"
   ]
  }
 ],
 "metadata": {
  "kernelspec": {
   "display_name": "HiC",
   "language": "python",
   "name": "hic_tls"
  },
  "language_info": {
   "codemirror_mode": {
    "name": "ipython",
    "version": 3
   },
   "file_extension": ".py",
   "mimetype": "text/x-python",
   "name": "python",
   "nbconvert_exporter": "python",
   "pygments_lexer": "ipython3",
   "version": "3.6.7"
  }
 },
 "nbformat": 4,
 "nbformat_minor": 5
}
