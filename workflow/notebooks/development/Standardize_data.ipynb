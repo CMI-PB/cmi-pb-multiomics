{
 "cells": [
  {
   "cell_type": "code",
   "execution_count": 1,
   "id": "f4a0440e",
   "metadata": {},
   "outputs": [],
   "source": [
    "import os \n",
    "import pandas as pd \n",
    "import numpy as np \n",
    "os.chdir('/mnt/BioHome/jreyna/jreyna/projects/cmi-pb-preds/')\n",
    "outdir = 'results/main/cmi_pb_datasets/processed/'\n",
    "os.makedirs(outdir, exist_ok=True)"
   ]
  },
  {
   "cell_type": "code",
   "execution_count": 2,
   "id": "97930d64",
   "metadata": {},
   "outputs": [],
   "source": [
    "assays = ('abtiters', 'cytof', 'olink', 'rnaseq')\n",
    "longnames = ('ab_titer', 'live_cell_percentages', 'olink_prot_exp', 'rnaseq')"
   ]
  },
  {
   "cell_type": "code",
   "execution_count": 3,
   "id": "ff8fee6a",
   "metadata": {},
   "outputs": [],
   "source": [
    "# loading gencode data\n",
    "gencode = pd.read_table('results/refs/gencode/gencode.v38lift37.annotation.protein_coding.bed', header=None)\n",
    "gencode.columns = ['chr', 'start', 'end', 'strand', 'gene_id', 'gene_name']\n",
    "gencode['gene_nonversioned_id'] = gencode['gene_id'].str.replace('\\..*', '')"
   ]
  },
  {
   "cell_type": "code",
   "execution_count": 4,
   "id": "af7c129f",
   "metadata": {},
   "outputs": [],
   "source": [
    "interm_dir = os.path.join(outdir, 'full')"
   ]
  },
  {
   "cell_type": "markdown",
   "id": "d53da804",
   "metadata": {},
   "source": [
    "## Load the 2020 data"
   ]
  },
  {
   "cell_type": "code",
   "execution_count": 5,
   "id": "e5a72f1e",
   "metadata": {},
   "outputs": [],
   "source": [
    "twenty_data = {}\n",
    "\n",
    "# get meta master table\n",
    "for metatable in ('subject', 'specimen'): \n",
    "    fn = 'results/main/cmi_pb_datasets/raw/2020LD_{}.csv'.format(metatable)\n",
    "    df = pd.read_table(fn, sep=',')\n",
    "    twenty_data[metatable] = df\n",
    "    \n",
    "subjects = twenty_data['subject']\n",
    "specimen = twenty_data['specimen']\n",
    "master_meta = subjects.merge(specimen, on='subject_id')\n",
    "master_meta = master_meta[['subject_id',\n",
    "                           'specimen_id',\n",
    "                           'infancy_vac',\n",
    "                           'biological_sex',\n",
    "                           'year_of_birth',\n",
    "                           'date_of_boost',\n",
    "                           'actual_day_relative_to_boost',\n",
    "                           'planned_day_relative_to_boost',\n",
    "                           'ethnicity',\n",
    "                           'race',\n",
    "                           'dataset',\n",
    "                           'specimen_type',\n",
    "                           'visit']]\n",
    "\n",
    "# defining the meta columns (used to remove columns later one)\n",
    "meta_cols = ['specimen_id', 'infancy_vac', 'biological_sex',\n",
    "             'year_of_birth', 'date_of_boost', 'actual_day_relative_to_boost',\n",
    "             'ethnicity', 'race', 'dataset',\n",
    "             'specimen_type', 'visit']\n",
    "\n",
    "twenty_data['master_meta'] = master_meta\n",
    "\n",
    "# save meta\n",
    "meta_fn = os.path.join(interm_dir, 'meta.2020.pivoted.tsv.gz')\n",
    "twenty_data['master_meta'].to_csv(meta_fn, sep='\\t')"
   ]
  },
  {
   "cell_type": "code",
   "execution_count": 6,
   "id": "78dbd00d",
   "metadata": {},
   "outputs": [
    {
     "name": "stdout",
     "output_type": "stream",
     "text": [
      "results/main/cmi_pb_datasets/raw/2020LD_ab_titer.csv\n",
      "results/main/cmi_pb_datasets/raw/2020LD_live_cell_percentages.csv\n",
      "results/main/cmi_pb_datasets/raw/2020LD_olink_prot_exp.csv\n",
      "results/main/cmi_pb_datasets/raw/2020LD_rnaseq.csv\n"
     ]
    }
   ],
   "source": [
    "for i, longname in enumerate(longnames): \n",
    "    fn = 'results/main/cmi_pb_datasets/raw/2020LD_{}.csv'.format(longname)\n",
    "    df = pd.read_table(fn, sep=',')\n",
    "    \n",
    "    print(fn)\n",
    "        \n",
    "    if assays[i] == 'rnaseq':\n",
    "        df.loc[:, 'ensembl_gene_id'] = df.loc[:, 'versioned_ensembl_gene_id'].str.replace('\\.[0-9]+', '')\n",
    "        df = df.pivot(index='specimen_id', columns='ensembl_gene_id', values='tpm')\n",
    "        df = master_meta.merge(df, on='specimen_id')\n",
    "        \n",
    "    elif assays[i] == 'cytof':\n",
    "        df = df.pivot(index='specimen_id', columns='cell_type_name', values='percent_live_cell')\n",
    "        df = master_meta.merge(df, on='specimen_id')\n",
    "        \n",
    "    elif assays[i] == 'olink':\n",
    "        # Still getting duplicate specimens? \n",
    "        df = df[df['unit'] == \"Normalized Protein eXpression\"]\n",
    "        df = df[df['quality_control'] == 'Pass']\n",
    "        df = df[df['protein_expression'] > df['lower_limit_of_quantitation']]\n",
    "        df = df.pivot(index='specimen_id', columns='uniprot_id', values='protein_expression')\n",
    "        df = master_meta.merge(df, on='specimen_id')      \n",
    "        \n",
    "    elif assays[i] == 'abtiters':\n",
    "        aglist = ['1% PFA PT', 'PT', 'PRN', 'FHA', 'FIM2/3']\n",
    "        df = df.loc[df.antigen.isin(aglist), :]\n",
    "        df['antigen'].replace(to_replace='1% PFA PT', value='PT', inplace=True)\n",
    "        df['isotype_antigen'] = df['isotype'] + '-' + df['antigen']\n",
    "        df = df.pivot(index='specimen_id', columns='isotype_antigen', values='MFI_normalised')\n",
    "        df = master_meta.merge(df, on='specimen_id')  \n",
    "\n",
    "    twenty_data[assays[i]] = df.drop(meta_cols, axis=1)    "
   ]
  },
  {
   "cell_type": "code",
   "execution_count": 7,
   "id": "5aae310b",
   "metadata": {},
   "outputs": [
    {
     "name": "stdout",
     "output_type": "stream",
     "text": [
      "subject 60\n",
      "specimen 60\n",
      "master_meta 60\n",
      "abtiters 58\n",
      "cytof 20\n",
      "olink 18\n",
      "rnaseq 36\n"
     ]
    }
   ],
   "source": [
    "for assay, df in twenty_data.items():\n",
    "    print(assay, df.subject_id.nunique())"
   ]
  },
  {
   "cell_type": "code",
   "execution_count": 8,
   "id": "022e35db",
   "metadata": {},
   "outputs": [
    {
     "name": "stdout",
     "output_type": "stream",
     "text": [
      "abtiters\n",
      "0 (58, 25)\n",
      "1 (57, 25)\n",
      "3 (57, 25)\n",
      "7 (57, 25)\n",
      "14 (57, 25)\n",
      "30 (54, 25)\n",
      "90 (51, 25)\n",
      "386 (1, 25)\n",
      "402 (1, 25)\n",
      "428 (1, 25)\n",
      "cytof\n",
      "0 (20, 27)\n",
      "1 (20, 27)\n",
      "3 (20, 27)\n",
      "7 (20, 27)\n",
      "14 (20, 27)\n",
      "olink\n",
      "0 (18, 258)\n",
      "1 (18, 258)\n",
      "3 (18, 258)\n",
      "7 (18, 258)\n",
      "14 (18, 258)\n",
      "rnaseq\n",
      "0 (36, 58349)\n",
      "1 (36, 58349)\n",
      "3 (36, 58349)\n",
      "7 (36, 58349)\n",
      "14 (36, 58349)\n"
     ]
    }
   ],
   "source": [
    "# save a dataframe for each assay on each day\n",
    "for assay, df in twenty_data.items():\n",
    "    if assay in ['cytof', 'olink', 'rnaseq', 'abtiters']:\n",
    "        print(assay)\n",
    "        for day, day_df in df.groupby('planned_day_relative_to_boost'):\n",
    "            outfn = os.path.join(interm_dir, '{}.2020.day{}.pivoted.tsv.gz'.format(assay, day))\n",
    "            day_df.drop('planned_day_relative_to_boost', axis=1).to_csv(outfn, index=False, sep='\\t')\n",
    "            print(day, day_df.shape)"
   ]
  },
  {
   "cell_type": "markdown",
   "id": "27f3f979",
   "metadata": {},
   "source": [
    "# Load the 2021 data"
   ]
  },
  {
   "cell_type": "code",
   "execution_count": 9,
   "id": "1367bde4",
   "metadata": {},
   "outputs": [],
   "source": [
    "twentyone_data = {}\n",
    "\n",
    "# get meta master table\n",
    "for metatable in ('subject', 'specimen'): \n",
    "    fn = 'results/main/cmi_pb_datasets/raw/2021BD_{}.csv'.format(metatable)\n",
    "    df = pd.read_table(fn, sep=',')\n",
    "    twentyone_data[metatable] = df\n",
    "    \n",
    "subjects = twentyone_data['subject']\n",
    "specimen = twentyone_data['specimen']\n",
    "master_meta = subjects.merge(specimen, on='subject_id')\n",
    "master_meta = master_meta[['subject_id',\n",
    "                           'specimen_id',\n",
    "                           'infancy_vac',\n",
    "                           'biological_sex',\n",
    "                           'year_of_birth',\n",
    "                           'date_of_boost',\n",
    "                           'actual_day_relative_to_boost',\n",
    "                           'planned_day_relative_to_boost',\n",
    "                           'ethnicity',\n",
    "                           'race',\n",
    "                           'dataset',\n",
    "                           'specimen_type',\n",
    "                           'visit']]\n",
    "twentyone_data['master_meta'] = master_meta"
   ]
  },
  {
   "cell_type": "code",
   "execution_count": 10,
   "id": "b4efa6f3",
   "metadata": {},
   "outputs": [],
   "source": [
    "for i, longname in enumerate(longnames): \n",
    "        \n",
    "    fn = 'results/main/cmi_pb_datasets/raw/2021BD_{}.csv'.format(longname)\n",
    "    df = pd.read_table(fn, sep=',')\n",
    "    \n",
    "    if assays[i] == 'rnaseq':\n",
    "        df.loc[:, 'ensembl_gene_id'] = df.loc[:, 'versioned_ensembl_gene_id'].str.replace('\\.[0-9]+', '')\n",
    "        df = df.pivot(index='specimen_id', columns='ensembl_gene_id', values='tpm')\n",
    "        df = master_meta.merge(df, on='specimen_id')\n",
    "                \n",
    "    elif assays[i] == 'cytof':\n",
    "        df = df.pivot(index='specimen_id', columns='cell_type_name', values='percent_live_cell')\n",
    "        df = master_meta.merge(df, on='specimen_id')\n",
    "        \n",
    "    elif assays[i] == 'olink':\n",
    "        df = df.pivot(index='specimen_id', columns='uniprot_id', values='protein_expression')\n",
    "        df = master_meta.merge(df, on='specimen_id')       \n",
    "        \n",
    "    elif assays[i] == 'abtiters':\n",
    "        aglist = ['PT', 'PRN', 'FHA', 'FIM2/3']\n",
    "        df = df.loc[df.antigen.isin(aglist), :]\n",
    "        df['isotype_antigen'] = df['isotype'] + '-' + df['antigen']\n",
    "        df = df.pivot(index='specimen_id', columns='isotype_antigen', values='MFI_normalised')\n",
    "        df = master_meta.merge(df, on='specimen_id')  \n",
    "          \n",
    "    twentyone_data[assays[i]] = df.drop(meta_cols, axis=1)\n",
    "    "
   ]
  },
  {
   "cell_type": "code",
   "execution_count": 11,
   "id": "29676087",
   "metadata": {},
   "outputs": [],
   "source": [
    "longname = 'live_cell_percentages'\n",
    "df = 'results/main/cmi_pb_datasets/raw/2021BD_{}.csv'.format(longname)\n",
    "\n",
    "df = pd.read_table(df, sep=',')\n",
    "\n",
    "df = df.pivot(index='specimen_id', columns='cell_type_name', values='percent_live_cell')\n",
    "df = master_meta.merge(df, on='specimen_id')"
   ]
  },
  {
   "cell_type": "code",
   "execution_count": 12,
   "id": "1cb891b7",
   "metadata": {
    "scrolled": true
   },
   "outputs": [
    {
     "name": "stdout",
     "output_type": "stream",
     "text": [
      "subject 36\n",
      "specimen 36\n",
      "master_meta 36\n",
      "abtiters 33\n",
      "cytof 33\n",
      "olink 36\n",
      "rnaseq 36\n"
     ]
    }
   ],
   "source": [
    "for assay, df in twentyone_data.items():\n",
    "    print(assay, df.subject_id.nunique())"
   ]
  },
  {
   "cell_type": "code",
   "execution_count": 13,
   "id": "711275f8",
   "metadata": {},
   "outputs": [],
   "source": [
    "os.makedirs(interm_dir, exist_ok=True)\n",
    "\n",
    "# save abtiters  \n",
    "abtiters_fn = os.path.join(interm_dir, 'abtiters.2021.day0.pivoted.tsv.gz')\n",
    "twentyone_data['abtiters'].drop('planned_day_relative_to_boost', axis=1).to_csv(abtiters_fn, index=False, sep='\\t')\n",
    "\n",
    "# save cytof \n",
    "cytof_fn = os.path.join(interm_dir, 'cytof.2021.day0.pivoted.tsv.gz')\n",
    "twentyone_data['cytof'].drop('planned_day_relative_to_boost', axis=1).to_csv(cytof_fn, index=False, sep='\\t')\n",
    "\n",
    "# save olink\n",
    "olink_fn = os.path.join(interm_dir, 'olink.2021.day0.pivoted.tsv.gz')\n",
    "twentyone_data['olink'].drop('planned_day_relative_to_boost', axis=1).to_csv(olink_fn, index=False, sep='\\t')\n",
    "\n",
    "# save rnaseq\n",
    "rnaseq_fn = os.path.join(interm_dir, 'rnaseq.2021.day0.pivoted.tsv.gz')\n",
    "twentyone_data['rnaseq'].drop('planned_day_relative_to_boost', axis=1).to_csv(rnaseq_fn, index=False, sep='\\t')\n",
    "\n",
    "# save meta\n",
    "meta_fn = os.path.join(interm_dir, 'meta.2021.pivoted.tsv.gz')\n",
    "twentyone_data['master_meta'].to_csv(meta_fn, index=False, sep='\\t')"
   ]
  },
  {
   "cell_type": "code",
   "execution_count": 14,
   "id": "a7ac8229",
   "metadata": {},
   "outputs": [],
   "source": [
    "# summary21 = []\n",
    "# for assay, df in twentyone_data.items():\n",
    "#     summary21.append([assay, df.subject_id.nunique()])\n",
    "\n",
    "# summary20 = []\n",
    "# for assay, df in twenty_data.items():\n",
    "#     summary20.append([df.subject_id.nunique()])\n",
    "\n",
    "# summary = pd.concat([pd.DataFrame(summary21), pd.DataFrame(summary20)], axis=1)\n",
    "# summary.columns = ('table', 'nsamples21', 'nsamples20')\n",
    "# summary = summary[['table', 'nsamples20', 'nsamples21']]"
   ]
  },
  {
   "cell_type": "code",
   "execution_count": 15,
   "id": "e01d81e1",
   "metadata": {},
   "outputs": [],
   "source": [
    "# fn = 'results/main/cmi_pb_datasets/2020LD_{}.csv'.format('olink_prot_exp')\n",
    "# df = pd.read_table(fn, sep=',')"
   ]
  },
  {
   "cell_type": "markdown",
   "id": "2469c53e",
   "metadata": {},
   "source": [
    "## Standardize RNA-seq"
   ]
  },
  {
   "cell_type": "markdown",
   "id": "f914ba00",
   "metadata": {},
   "source": [
    "The RNA-seq dataset includes a lot more variables and processing so there are many steps we are including for standardization:\n",
    "\n",
    "    1) remove zero variance genes,\n",
    "    2) remove mitochondrial genes, \n",
    "    3) keep expressed genes (defined as those with TPM > 1) in more than a certain proportion of people (cut_filter)\n",
    "    4) intersect genes across 2020 and 2021 and finally make harmonized 2020 and 2021 tables "
   ]
  },
  {
   "cell_type": "code",
   "execution_count": 16,
   "id": "93adf182",
   "metadata": {},
   "outputs": [],
   "source": [
    "# load gene data to find mitochondrial genes\n",
    "mito_genes = gencode.loc[(gencode.chr == 'chrM'), 'gene_nonversioned_id']\n",
    "mito_genes = set(mito_genes.unique().tolist())"
   ]
  },
  {
   "cell_type": "code",
   "execution_count": 17,
   "id": "963f46e8",
   "metadata": {},
   "outputs": [],
   "source": [
    "# value used across both RNA-seq datasets\n",
    "cut_filter = 0.3"
   ]
  },
  {
   "cell_type": "markdown",
   "id": "c7f38f59",
   "metadata": {},
   "source": [
    "### RNA-seq for 2020"
   ]
  },
  {
   "cell_type": "code",
   "execution_count": 18,
   "id": "4d3002ae",
   "metadata": {},
   "outputs": [],
   "source": [
    "# find zero variance genes \n",
    "tmp = twenty_data['rnaseq'].loc[twenty_data['rnaseq'].planned_day_relative_to_boost == 0]\n",
    "tmp = tmp.loc[:, tmp.columns.str.match('ENSG')]\n",
    "tmpvars = tmp.var()\n",
    "zero_var_genes = tmpvars[(tmpvars == 0)]\n",
    "zero_var_genes = set(zero_var_genes.index.tolist())"
   ]
  },
  {
   "cell_type": "code",
   "execution_count": 19,
   "id": "1f5a76c9",
   "metadata": {},
   "outputs": [],
   "source": [
    "# locate genes which are expressed\n",
    "# defined as genes with TPM > 1 in more than 30% of samples \n",
    "expressed_genes = (tmp > 1).sum() > cut_filter * tmp.shape[0]\n",
    "expressed_genes = set(expressed_genes.index[expressed_genes.values.tolist()])"
   ]
  },
  {
   "cell_type": "code",
   "execution_count": 20,
   "id": "06ccf776",
   "metadata": {},
   "outputs": [],
   "source": [
    "# get the final list of genes \n",
    "keep_genes = expressed_genes.difference(mito_genes).difference(zero_var_genes)\n",
    "keep_genes = keep_genes.intersection(gencode.gene_nonversioned_id.values.tolist())"
   ]
  },
  {
   "cell_type": "code",
   "execution_count": 21,
   "id": "aa9ad603",
   "metadata": {},
   "outputs": [],
   "source": [
    "# make the final new_rnaseq table\n",
    "new_rnaseq1 = tmp.loc[:, ~tmp.columns.str.match('ENSG')]\n",
    "new_rnaseq2 = tmp.loc[:, keep_genes]\n",
    "twenty_data['rnaseq_std'] = pd.concat([new_rnaseq1, new_rnaseq2], axis=1)"
   ]
  },
  {
   "cell_type": "markdown",
   "id": "e3d96165",
   "metadata": {},
   "source": [
    "### RNA-seq for 2021"
   ]
  },
  {
   "cell_type": "code",
   "execution_count": 22,
   "id": "3d4f32f0",
   "metadata": {},
   "outputs": [],
   "source": [
    "# find zero variance genes \n",
    "tmp = twentyone_data['rnaseq'].loc[twentyone_data['rnaseq'].planned_day_relative_to_boost == 0]\n",
    "tmp = tmp.loc[:, tmp.columns.str.match('ENSG')]\n",
    "tmpvars = tmp.var()\n",
    "zero_var_genes = tmpvars[(tmpvars == 0)]\n",
    "zero_var_genes = set(zero_var_genes.index.tolist())"
   ]
  },
  {
   "cell_type": "code",
   "execution_count": 23,
   "id": "dd8a411f",
   "metadata": {},
   "outputs": [],
   "source": [
    "# locate genes which are expressed\n",
    "# defined as genes with TPM > 1 in more than 30% of samples \n",
    "expressed_genes = (tmp > 1).sum() > cut_filter * tmp.shape[0]\n",
    "expressed_genes = set(expressed_genes.index[expressed_genes.values.tolist()])"
   ]
  },
  {
   "cell_type": "code",
   "execution_count": 24,
   "id": "4491e733",
   "metadata": {},
   "outputs": [],
   "source": [
    "# get the final list of genes \n",
    "keep_genes = expressed_genes.difference(mito_genes).difference(zero_var_genes)\n",
    "keep_genes = keep_genes.intersection(gencode.gene_nonversioned_id.values.tolist())"
   ]
  },
  {
   "cell_type": "code",
   "execution_count": 25,
   "id": "2f405b2a",
   "metadata": {},
   "outputs": [],
   "source": [
    "# make the final new_rnaseq table\n",
    "new_rnaseq1 = tmp.loc[:, ~tmp.columns.str.match('ENSG')]\n",
    "new_rnaseq2 = tmp.loc[:, keep_genes]\n",
    "twentyone_data['rnaseq_std'] = pd.concat([new_rnaseq1, new_rnaseq2], axis=1)"
   ]
  },
  {
   "cell_type": "markdown",
   "id": "03fb76af",
   "metadata": {},
   "source": [
    "### Harmonize the RNA-seq datasets "
   ]
  },
  {
   "cell_type": "code",
   "execution_count": 26,
   "id": "16da566d",
   "metadata": {},
   "outputs": [],
   "source": [
    "# get the shared genes between 2020 and 2021\n",
    "twenty_genes = set(twenty_data['rnaseq_std'].columns.str.extract('(ENSG[0-9]+)').dropna()[0])\n",
    "twentyone_genes = set(twentyone_data['rnaseq_std'].columns.str.extract('(ENSG[0-9]+)').dropna()[0])\n",
    "shared_genes = sorted(twenty_genes.intersection(twentyone_genes))"
   ]
  },
  {
   "cell_type": "code",
   "execution_count": 27,
   "id": "91d4bdf1",
   "metadata": {},
   "outputs": [],
   "source": [
    "# getting harmonized for 2020 \n",
    "new_rnaseq1 = twenty_data['rnaseq'].loc[:, ~twenty_data['rnaseq'].columns.str.match('ENSG')]\n",
    "new_rnaseq2 = twenty_data['rnaseq'].loc[:, shared_genes]\n",
    "harmonized_df = pd.concat([new_rnaseq1, new_rnaseq2], axis=1)\n",
    "harmonized_df = harmonized_df.loc[harmonized_df.planned_day_relative_to_boost == 0]\n",
    "harmonized_df.drop('planned_day_relative_to_boost', axis=1, inplace=True)\n",
    "twenty_data['rnaseq_harmonized'] = harmonized_df"
   ]
  },
  {
   "cell_type": "code",
   "execution_count": 28,
   "id": "aba1b9b8",
   "metadata": {},
   "outputs": [],
   "source": [
    "# getting harmonized for 2021\n",
    "new_rnaseq1 = twentyone_data['rnaseq'].loc[:, ~twentyone_data['rnaseq'].columns.str.match('ENSG')]\n",
    "new_rnaseq2 = twentyone_data['rnaseq'].loc[:, shared_genes]\n",
    "harmonized_df = pd.concat([new_rnaseq1, new_rnaseq2], axis=1)\n",
    "harmonized_df = harmonized_df.loc[harmonized_df.planned_day_relative_to_boost == 0]\n",
    "harmonized_df.drop('planned_day_relative_to_boost', axis=1, inplace=True)\n",
    "twentyone_data['rnaseq_harmonized'] = harmonized_df"
   ]
  },
  {
   "cell_type": "code",
   "execution_count": 29,
   "id": "26d3be7f",
   "metadata": {},
   "outputs": [],
   "source": [
    "# save harmonize rnaseq\n",
    "harmony_dir = os.path.join(outdir, 'harmonized/')\n",
    "os.makedirs(harmony_dir, exist_ok=True)\n",
    "\n",
    "rnaseq_2020_fn = os.path.join(harmony_dir, 'rnaseq.2020.day0.pivoted.tsv.gz')\n",
    "twenty_data['rnaseq_harmonized'].loc[:, ['subject_id'] + shared_genes].to_csv(rnaseq_2020_fn, index=False, sep='\\t')\n",
    "\n",
    "rnaseq_2021_fn = os.path.join(harmony_dir, 'rnaseq.2021.day0.pivoted.tsv.gz')\n",
    "twentyone_data['rnaseq_harmonized'].loc[:, ['subject_id'] + shared_genes].to_csv(rnaseq_2021_fn, index=False, sep='\\t')"
   ]
  },
  {
   "cell_type": "code",
   "execution_count": 30,
   "id": "2e7ddda1",
   "metadata": {},
   "outputs": [
    {
     "data": {
      "text/plain": [
       "(36, 11589)"
      ]
     },
     "execution_count": 30,
     "metadata": {},
     "output_type": "execute_result"
    }
   ],
   "source": [
    "twentyone_data['rnaseq_harmonized'].shape"
   ]
  },
  {
   "cell_type": "markdown",
   "id": "9f3fe623",
   "metadata": {},
   "source": [
    "## Standardize CyTOF"
   ]
  },
  {
   "cell_type": "code",
   "execution_count": 31,
   "id": "d66aeef3",
   "metadata": {},
   "outputs": [],
   "source": [
    "shared_cells = set(twenty_data['cytof'].columns).intersection(set(twentyone_data['cytof'].columns))\n",
    "shared_cells = sorted(list(shared_cells))\n",
    "shared_cells.remove('subject_id')\n",
    "shared_cells.remove('planned_day_relative_to_boost')"
   ]
  },
  {
   "cell_type": "code",
   "execution_count": 32,
   "id": "fdb8ce52",
   "metadata": {},
   "outputs": [],
   "source": [
    "day0_rows = twenty_data['cytof']['planned_day_relative_to_boost'] == 0\n",
    "twenty_data['cytof_harmonized'] = twenty_data['cytof'].loc[day0_rows]\n",
    "twenty_data['cytof_harmonized'] = twenty_data['cytof_harmonized'].loc[:, ['subject_id'] + shared_cells]\n",
    "\n",
    "day0_rows = twentyone_data['cytof']['planned_day_relative_to_boost'] == 0\n",
    "twentyone_data['cytof_harmonized'] = twentyone_data['cytof'].loc[day0_rows]\n",
    "twentyone_data['cytof_harmonized'] = twentyone_data['cytof_harmonized'].loc[:, ['subject_id'] + shared_cells]"
   ]
  },
  {
   "cell_type": "code",
   "execution_count": 33,
   "id": "e6f0cba9",
   "metadata": {},
   "outputs": [],
   "source": [
    "cytof_2020_fn = os.path.join(harmony_dir, 'cytof.2020.day0.pivoted.tsv.gz')\n",
    "twenty_data['cytof_harmonized'].to_csv(cytof_2020_fn, index=False, sep='\\t')"
   ]
  },
  {
   "cell_type": "code",
   "execution_count": 34,
   "id": "2c0019e5",
   "metadata": {},
   "outputs": [],
   "source": [
    "cytof_2021_fn = os.path.join(harmony_dir, 'cytof.2021.day0.pivoted.tsv.gz')\n",
    "twentyone_data['cytof_harmonized'].to_csv(cytof_2021_fn, index=False, sep='\\t')"
   ]
  },
  {
   "cell_type": "code",
   "execution_count": 35,
   "id": "136d9bd9",
   "metadata": {},
   "outputs": [
    {
     "data": {
      "text/plain": [
       "(33, 23)"
      ]
     },
     "execution_count": 35,
     "metadata": {},
     "output_type": "execute_result"
    }
   ],
   "source": [
    "twentyone_data['cytof_harmonized'].shape"
   ]
  },
  {
   "cell_type": "markdown",
   "id": "0a8f4918",
   "metadata": {},
   "source": [
    "## Standardize Ab Titers"
   ]
  },
  {
   "cell_type": "code",
   "execution_count": 36,
   "id": "5a9d7a65",
   "metadata": {},
   "outputs": [],
   "source": [
    "abtiters_overlap = set(twenty_data['abtiters'].columns).intersection(twentyone_data['abtiters'].columns.tolist())\n",
    "abtiters_overlap.discard('planned_day_relative_to_boost')\n",
    "abtiters_overlap.discard('subject_id')\n",
    "abtiters_overlap = sorted(abtiters_overlap)"
   ]
  },
  {
   "cell_type": "code",
   "execution_count": 37,
   "id": "8661b7c6",
   "metadata": {},
   "outputs": [],
   "source": [
    "twenty_data['abtiters_harmonized'] = twenty_data['abtiters'].\\\n",
    "        loc[twenty_data['abtiters'].planned_day_relative_to_boost == 0, ]\n",
    "twenty_data['abtiters_harmonized'] = twenty_data['abtiters_harmonized'].loc[:, ['subject_id'] + abtiters_overlap]\n",
    "new_abtiters_fn = os.path.join(harmony_dir, 'abtiters.2020.day0.pivoted.tsv.gz')\n",
    "twenty_data['abtiters_harmonized'].to_csv(new_abtiters_fn, sep='\\t', index=False)"
   ]
  },
  {
   "cell_type": "code",
   "execution_count": 38,
   "id": "bdfd4b9b",
   "metadata": {},
   "outputs": [],
   "source": [
    "twentyone_data['abtiters_harmonized'] = twentyone_data['abtiters'].\\\n",
    "        loc[twentyone_data['abtiters'].planned_day_relative_to_boost == 0, ]\n",
    "twentyone_data['abtiters_harmonized'] = twentyone_data['abtiters_harmonized'].loc[:, ['subject_id'] + abtiters_overlap]\n",
    "new_abtiters_fn = os.path.join(harmony_dir, 'abtiters.2021.day0.pivoted.tsv.gz')\n",
    "twentyone_data['abtiters_harmonized'].to_csv(new_abtiters_fn, sep='\\t', index=False)"
   ]
  },
  {
   "cell_type": "markdown",
   "id": "7ea157a2",
   "metadata": {},
   "source": [
    "## Standardize Olink"
   ]
  },
  {
   "cell_type": "markdown",
   "id": "48e65733",
   "metadata": {},
   "source": [
    "### Checking Olink features "
   ]
  },
  {
   "cell_type": "code",
   "execution_count": 39,
   "id": "b5c0740b",
   "metadata": {},
   "outputs": [],
   "source": [
    "def load_api_data(url):\n",
    "    \"\"\"\n",
    "    Loading data using the API.\n",
    "    \"\"\"\n",
    "\n",
    "    import urllib.request, json, ssl \n",
    "\n",
    "    gcontext = ssl.SSLContext()  \n",
    "    with urllib.request.urlopen(url, context=gcontext) as url:\n",
    "        data = url.read()\n",
    "        data = pd.read_json(data)\n",
    "        return(data)"
   ]
  },
  {
   "cell_type": "code",
   "execution_count": 40,
   "id": "f3e5532c",
   "metadata": {},
   "outputs": [
    {
     "data": {
      "text/plain": [
       "{'O14625',\n",
       " 'O43508',\n",
       " 'P01133',\n",
       " 'P01579',\n",
       " 'P02778',\n",
       " 'P05112',\n",
       " 'P05231',\n",
       " 'P09603',\n",
       " 'P10145',\n",
       " 'P10147',\n",
       " 'P13232',\n",
       " 'P13236',\n",
       " 'P13500',\n",
       " 'P14210',\n",
       " 'P15692',\n",
       " 'P22301',\n",
       " 'P35225',\n",
       " 'P39900',\n",
       " 'P48061',\n",
       " 'P50591',\n",
       " 'P51671',\n",
       " 'P80075',\n",
       " 'P80098',\n",
       " 'Q07325',\n",
       " 'Q14116',\n",
       " 'Q99616',\n",
       " 'Q99731',\n",
       " 'planned_day_relative_to_boost',\n",
       " 'subject_id'}"
      ]
     },
     "execution_count": 40,
     "metadata": {},
     "output_type": "execute_result"
    }
   ],
   "source": [
    "set(twenty_data['olink'].columns.tolist()).intersection(twentyone_data['olink'].columns.tolist())"
   ]
  },
  {
   "cell_type": "code",
   "execution_count": 41,
   "id": "138c664f",
   "metadata": {},
   "outputs": [],
   "source": [
    "# load olink mapper\n",
    "url = 'https://www.cmi-pb.org:443/api/v2/olink_prot_info'\n",
    "olink_meta = load_api_data(url) \n",
    "olink_meta.set_index('olink_id', inplace=True)\n",
    "\n",
    "# keep non-duplicated values only\n",
    "olink_uniq = olink_meta.loc[~olink_meta.index.duplicated(keep=False), ]\n",
    "olink_uniq = olink_uniq.squeeze().to_dict()\n",
    "\n",
    "# keep only duplicated values\n",
    "olink_dups = olink_meta.loc[olink_meta.index.duplicated(keep=False), ]\n",
    "#olink_uniq = olink_uniq.squeeze().to_dict()"
   ]
  },
  {
   "cell_type": "markdown",
   "id": "415f4f7b",
   "metadata": {},
   "source": [
    "### Checking Olink features "
   ]
  },
  {
   "cell_type": "code",
   "execution_count": 42,
   "id": "98b061e0",
   "metadata": {},
   "outputs": [],
   "source": [
    "check_olink_2020 = twenty_data['olink'].copy()\n",
    "check_olink_2020.rename(columns=olink_uniq, inplace=True)"
   ]
  },
  {
   "cell_type": "code",
   "execution_count": 43,
   "id": "42ab074d",
   "metadata": {},
   "outputs": [],
   "source": [
    "check_olink_2021 = twentyone_data['olink'].copy()\n",
    "check_olink_2021.rename(columns=olink_uniq, inplace=True)"
   ]
  },
  {
   "cell_type": "code",
   "execution_count": 44,
   "id": "d90aefd2",
   "metadata": {},
   "outputs": [],
   "source": [
    "olink_overlaps = set(check_olink_2020.columns.tolist()).intersection(check_olink_2021.columns.tolist())\n",
    "olink_overlaps.discard('planned_day_relative_to_boost')\n",
    "olink_overlaps.discard('subject_id')\n",
    "olink_overlaps = sorted(olink_overlaps)"
   ]
  },
  {
   "cell_type": "code",
   "execution_count": 45,
   "id": "334754d7",
   "metadata": {},
   "outputs": [
    {
     "name": "stdout",
     "output_type": "stream",
     "text": [
      "There are 27 overlaps with the unique Uniprot proteins.\n"
     ]
    }
   ],
   "source": [
    "print('There are {} overlaps with the unique Uniprot proteins.'.format(len(olink_overlaps)))"
   ]
  },
  {
   "cell_type": "code",
   "execution_count": 46,
   "id": "b554e1e9",
   "metadata": {},
   "outputs": [
    {
     "name": "stdout",
     "output_type": "stream",
     "text": [
      "There are 0 overlaps with the duplicates.\n"
     ]
    }
   ],
   "source": [
    "dup_overlaps = set(olink_overlaps).intersection(olink_dups.uniprot_id.tolist())\n",
    "print('There are {} overlaps with the duplicates.'.format(len(dup_overlaps)))"
   ]
  },
  {
   "cell_type": "code",
   "execution_count": 47,
   "id": "d5a02f7b",
   "metadata": {},
   "outputs": [
    {
     "name": "stdout",
     "output_type": "stream",
     "text": [
      "Olink data from 2020 has 256 protein measurements whereas 2021 has 45.\n"
     ]
    }
   ],
   "source": [
    "s = 'Olink data from 2020 has {} protein measurements'.format(twenty_data['olink'].shape[1] - 2)\n",
    "s += ' whereas 2021 has {}.'.format(twentyone_data['olink'].shape[1] - 2)\n",
    "print(s)"
   ]
  },
  {
   "cell_type": "markdown",
   "id": "1cad9a80",
   "metadata": {},
   "source": [
    "Seems like the olink to protein names database is not updated. I can't find the protein names for 2021 data. "
   ]
  },
  {
   "cell_type": "markdown",
   "id": "91126681",
   "metadata": {},
   "source": [
    "### Harmonizing features"
   ]
  },
  {
   "cell_type": "code",
   "execution_count": 48,
   "id": "f3888c67",
   "metadata": {},
   "outputs": [],
   "source": [
    "twenty_olink_harmonized = check_olink_2020.copy()\n",
    "twenty_olink_harmonized = twenty_olink_harmonized.loc[twenty_olink_harmonized.planned_day_relative_to_boost == 0]\n",
    "twenty_olink_harmonized = twenty_olink_harmonized[['subject_id'] + olink_overlaps]\n",
    "twenty_harmonized_olink_fn = os.path.join(harmony_dir, 'olink.2020.day0.pivoted.tsv.gz')\n",
    "twenty_olink_harmonized.to_csv(twenty_harmonized_olink_fn, sep='\\t', index=False)\n",
    "twenty_data['olink_harmonized'] = twenty_olink_harmonized"
   ]
  },
  {
   "cell_type": "code",
   "execution_count": 49,
   "id": "1a5073a3",
   "metadata": {},
   "outputs": [],
   "source": [
    "twentyone_olink_harmonized = check_olink_2021.copy()\n",
    "twentyone_olink_harmonized = twentyone_olink_harmonized.loc[twentyone_olink_harmonized.planned_day_relative_to_boost == 0]\n",
    "twentyone_olink_harmonized = twentyone_olink_harmonized[['subject_id'] + olink_overlaps]\n",
    "twentyone_harmonized_olink_fn = os.path.join(harmony_dir, 'olink.2021.day0.pivoted.tsv.gz')\n",
    "twentyone_olink_harmonized.to_csv(twentyone_harmonized_olink_fn, sep='\\t', index=False)\n",
    "twentyone_data['olink_harmonized'] = twentyone_olink_harmonized"
   ]
  },
  {
   "cell_type": "markdown",
   "id": "015153cb",
   "metadata": {},
   "source": [
    "## Providing all task vectors for training"
   ]
  },
  {
   "cell_type": "code",
   "execution_count": 50,
   "id": "f30ad7a7",
   "metadata": {},
   "outputs": [],
   "source": [
    "from IPython.display import display"
   ]
  },
  {
   "cell_type": "code",
   "execution_count": 51,
   "id": "638c9c3a",
   "metadata": {},
   "outputs": [],
   "source": [
    "# Loading the table describing each task \n",
    "tasks = pd.read_table('results/refs/tasks.tsv')\n",
    "\n",
    "# Making a task vector using GENE IDS for RNA based tasks\n",
    "i = 1\n",
    "for idd, task in tasks.iterrows():\n",
    "    \n",
    "    # extracting the required columns\n",
    "    cols = ['subject_id', task.fetchname]\n",
    "    task_data = twenty_data[task.assay]\n",
    "    task_data = task_data.loc[(task_data.planned_day_relative_to_boost == task.day), cols]\n",
    "    task_data.columns = ['subject_id', task.fetchname + '_day' + str(task.day)]    \n",
    "    \n",
    "    # merging the data together\n",
    "    if i == 1: \n",
    "        master_tasks = task_data\n",
    "    else:\n",
    "        master_tasks = master_tasks.merge(task_data, on='subject_id', how='outer')\n",
    "    i += 1 \n",
    "\n",
    "# saving the task matrix \n",
    "task_fn = os.path.join(harmony_dir, 'task_matrix.feature_names.tsv.gz')\n",
    "master_tasks.to_csv(task_fn, sep='\\t', index=False)\n",
    "\n",
    "# Making a task vector using GENE NAMES for RNA based tasks\n",
    "i = 1\n",
    "for idd, task in tasks.iterrows():\n",
    "    \n",
    "    # extracting the required columns\n",
    "    cols = ['subject_id', task.fetchname]\n",
    "    task_data = twenty_data[task.assay]\n",
    "    task_data = task_data.loc[(task_data.planned_day_relative_to_boost == task.day), cols]\n",
    "    \n",
    "    if task.assay == 'rnaseq':\n",
    "        task_data.columns = ['subject_id', task.fullname + '_day' + str(task.day)]    \n",
    "    else:\n",
    "        task_data.columns = ['subject_id', task.fetchname + '_day' + str(task.day)]    \n",
    "    \n",
    "    # merging the data together\n",
    "    if i == 1: \n",
    "        master_tasks = task_data\n",
    "    else:\n",
    "        master_tasks = master_tasks.merge(task_data, on='subject_id', how='outer')\n",
    "    i += 1 \n",
    "\n",
    "# saving the task matrix \n",
    "task_fn = os.path.join(harmony_dir, 'task_matrix.common_names.tsv.gz')\n",
    "master_tasks.to_csv(task_fn, sep='\\t', index=False)"
   ]
  },
  {
   "cell_type": "code",
   "execution_count": 52,
   "id": "0d49a431",
   "metadata": {},
   "outputs": [
    {
     "data": {
      "text/html": [
       "<div>\n",
       "<style scoped>\n",
       "    .dataframe tbody tr th:only-of-type {\n",
       "        vertical-align: middle;\n",
       "    }\n",
       "\n",
       "    .dataframe tbody tr th {\n",
       "        vertical-align: top;\n",
       "    }\n",
       "\n",
       "    .dataframe thead th {\n",
       "        text-align: right;\n",
       "    }\n",
       "</style>\n",
       "<table border=\"1\" class=\"dataframe\">\n",
       "  <thead>\n",
       "    <tr style=\"text-align: right;\">\n",
       "      <th></th>\n",
       "      <th>subject_id</th>\n",
       "      <th>IgG-PT_day14</th>\n",
       "      <th>IgG-FHA_day14</th>\n",
       "      <th>IgG-PRN_day14</th>\n",
       "      <th>Monocytes_day1</th>\n",
       "      <th>ASCs (Plasmablasts)_day7</th>\n",
       "      <th>CD4Tcells_day3</th>\n",
       "      <th>CCL3_day3</th>\n",
       "      <th>IL-6_day3</th>\n",
       "      <th>NFKBIA_day7</th>\n",
       "      <th>XIST_day14</th>\n",
       "    </tr>\n",
       "  </thead>\n",
       "  <tbody>\n",
       "    <tr>\n",
       "      <th>0</th>\n",
       "      <td>1</td>\n",
       "      <td>12.513860</td>\n",
       "      <td>0.084437</td>\n",
       "      <td>8.147366</td>\n",
       "      <td>NaN</td>\n",
       "      <td>NaN</td>\n",
       "      <td>NaN</td>\n",
       "      <td>46.410</td>\n",
       "      <td>3.814</td>\n",
       "      <td>651.685</td>\n",
       "      <td>146.247</td>\n",
       "    </tr>\n",
       "    <tr>\n",
       "      <th>1</th>\n",
       "      <td>3</td>\n",
       "      <td>7.041547</td>\n",
       "      <td>11.564209</td>\n",
       "      <td>8.076863</td>\n",
       "      <td>NaN</td>\n",
       "      <td>NaN</td>\n",
       "      <td>NaN</td>\n",
       "      <td>26.204</td>\n",
       "      <td>2.646</td>\n",
       "      <td>575.733</td>\n",
       "      <td>121.084</td>\n",
       "    </tr>\n",
       "    <tr>\n",
       "      <th>2</th>\n",
       "      <td>4</td>\n",
       "      <td>5.745959</td>\n",
       "      <td>2.937680</td>\n",
       "      <td>6.853723</td>\n",
       "      <td>7.211965</td>\n",
       "      <td>1.77</td>\n",
       "      <td>8.700555</td>\n",
       "      <td>13.353</td>\n",
       "      <td>3.770</td>\n",
       "      <td>550.870</td>\n",
       "      <td>0.132</td>\n",
       "    </tr>\n",
       "    <tr>\n",
       "      <th>3</th>\n",
       "      <td>5</td>\n",
       "      <td>5.327203</td>\n",
       "      <td>0.084437</td>\n",
       "      <td>5.062398</td>\n",
       "      <td>NaN</td>\n",
       "      <td>NaN</td>\n",
       "      <td>NaN</td>\n",
       "      <td>20.618</td>\n",
       "      <td>2.070</td>\n",
       "      <td>1098.404</td>\n",
       "      <td>0.066</td>\n",
       "    </tr>\n",
       "    <tr>\n",
       "      <th>4</th>\n",
       "      <td>6</td>\n",
       "      <td>8.856575</td>\n",
       "      <td>2.487012</td>\n",
       "      <td>0.457834</td>\n",
       "      <td>41.380502</td>\n",
       "      <td>3.50</td>\n",
       "      <td>41.706336</td>\n",
       "      <td>19.606</td>\n",
       "      <td>2.163</td>\n",
       "      <td>686.300</td>\n",
       "      <td>127.023</td>\n",
       "    </tr>\n",
       "  </tbody>\n",
       "</table>\n",
       "</div>"
      ],
      "text/plain": [
       "   subject_id  IgG-PT_day14  IgG-FHA_day14  IgG-PRN_day14  Monocytes_day1  \\\n",
       "0           1     12.513860       0.084437       8.147366             NaN   \n",
       "1           3      7.041547      11.564209       8.076863             NaN   \n",
       "2           4      5.745959       2.937680       6.853723        7.211965   \n",
       "3           5      5.327203       0.084437       5.062398             NaN   \n",
       "4           6      8.856575       2.487012       0.457834       41.380502   \n",
       "\n",
       "   ASCs (Plasmablasts)_day7  CD4Tcells_day3  CCL3_day3  IL-6_day3  \\\n",
       "0                       NaN             NaN     46.410      3.814   \n",
       "1                       NaN             NaN     26.204      2.646   \n",
       "2                      1.77        8.700555     13.353      3.770   \n",
       "3                       NaN             NaN     20.618      2.070   \n",
       "4                      3.50       41.706336     19.606      2.163   \n",
       "\n",
       "   NFKBIA_day7  XIST_day14  \n",
       "0      651.685     146.247  \n",
       "1      575.733     121.084  \n",
       "2      550.870       0.132  \n",
       "3     1098.404       0.066  \n",
       "4      686.300     127.023  "
      ]
     },
     "execution_count": 52,
     "metadata": {},
     "output_type": "execute_result"
    }
   ],
   "source": [
    "master_tasks.head()"
   ]
  },
  {
   "cell_type": "markdown",
   "id": "138e401f",
   "metadata": {},
   "source": [
    "## Providing day 0 data for all task vectors (for fold change transformations)|"
   ]
  },
  {
   "cell_type": "code",
   "execution_count": 53,
   "id": "a05e00b7",
   "metadata": {},
   "outputs": [],
   "source": [
    "# Making a task vector using GENE IDS for RNA based tasks\n",
    "i = 1\n",
    "for idd, task in tasks.iterrows():\n",
    "    \n",
    "    # extracting the required columns\n",
    "    cols = ['subject_id', task.fetchname]\n",
    "    task_data = twenty_data[task.assay]\n",
    "    task_data = task_data.loc[(task_data.planned_day_relative_to_boost == 0), cols]\n",
    "    task_data.columns = ['subject_id', task.fetchname + '_day' + str(0)]    \n",
    "    \n",
    "    # merging the data together\n",
    "    if i == 1: \n",
    "        zero_day_tasks = task_data\n",
    "    else:\n",
    "        zero_day_tasks = zero_day_tasks.merge(task_data, on='subject_id', how='outer')\n",
    "    i += 1 \n",
    "\n",
    "# saving the task matrix \n",
    "task_fn = os.path.join(harmony_dir, 'zero_day_matrix.feature_names.tsv.gz')\n",
    "zero_day_tasks.to_csv(task_fn, sep='\\t', index=False)"
   ]
  },
  {
   "cell_type": "code",
   "execution_count": 54,
   "id": "177d6ed5",
   "metadata": {},
   "outputs": [],
   "source": [
    "# Making a task vector using GENE NAMES for RNA based tasks\n",
    "i = 1\n",
    "for idd, task in tasks.iterrows():\n",
    "    \n",
    "    # extracting the required columns\n",
    "    cols = ['subject_id', task.fetchname]\n",
    "    task_data = twenty_data[task.assay]\n",
    "    task_data = task_data.loc[(task_data.planned_day_relative_to_boost == 0), cols]\n",
    "    \n",
    "    if task.assay == 'rnaseq':\n",
    "        task_data.columns = ['subject_id', task.fullname + '_day' + str(0)]    \n",
    "    else:\n",
    "        task_data.columns = ['subject_id', task.fetchname + '_day' + str(0)]    \n",
    "    \n",
    "    # merging the data together\n",
    "    if i == 1: \n",
    "        zero_day_tasks = task_data\n",
    "    else:\n",
    "        zero_day_tasks = zero_day_tasks.merge(task_data, on='subject_id', how='outer')\n",
    "    i += 1 \n",
    "\n",
    "# saving the task matrix \n",
    "task_fn = os.path.join(harmony_dir, 'zero_day_matrix.common_names.tsv.gz')\n",
    "zero_day_tasks.to_csv(task_fn, sep='\\t', index=False)"
   ]
  },
  {
   "cell_type": "markdown",
   "id": "944f2daf",
   "metadata": {},
   "source": [
    "## Providing meta data into a basic format"
   ]
  },
  {
   "cell_type": "code",
   "execution_count": 55,
   "id": "e8f2bfbc",
   "metadata": {},
   "outputs": [
    {
     "name": "stderr",
     "output_type": "stream",
     "text": [
      "/mnt/BioHome/jreyna/.local/lib/python3.6/site-packages/pandas/core/frame.py:4174: SettingWithCopyWarning: \n",
      "A value is trying to be set on a copy of a slice from a DataFrame\n",
      "\n",
      "See the caveats in the documentation: https://pandas.pydata.org/pandas-docs/stable/user_guide/indexing.html#returning-a-view-versus-a-copy\n",
      "  errors=errors,\n"
     ]
    }
   ],
   "source": [
    "twenty_basic_meta = twenty_data['master_meta'].drop_duplicates('subject_id')\n",
    "drop_cols = ['specimen_id', 'actual_day_relative_to_boost', 'planned_day_relative_to_boost', 'visit', 'dataset']\n",
    "twenty_basic_meta.drop(drop_cols, axis=1, inplace=True)\n",
    "\n",
    "twenty_basic_fn = os.path.join(harmony_dir, 'clinical_metadata.2020.tsv.gz')\n",
    "twenty_basic_meta.to_csv(twenty_basic_fn, sep='\\t', index=False)"
   ]
  },
  {
   "cell_type": "code",
   "execution_count": 56,
   "id": "7b7c86df",
   "metadata": {},
   "outputs": [],
   "source": [
    "twentyone_basic_meta = twentyone_data['master_meta'].drop_duplicates('subject_id')\n",
    "twentyone_basic_meta.drop(drop_cols, axis=1, inplace=True)\n",
    "\n",
    "twentyone_basic_fn = os.path.join(harmony_dir, 'clinical_metadata.2021.tsv.gz')\n",
    "twentyone_basic_meta.to_csv(twentyone_basic_fn, sep='\\t', index=False)"
   ]
  },
  {
   "cell_type": "markdown",
   "id": "57be5bb2",
   "metadata": {},
   "source": [
    "# Summarize the harmonization process"
   ]
  },
  {
   "cell_type": "code",
   "execution_count": 57,
   "id": "ca204a16",
   "metadata": {},
   "outputs": [],
   "source": [
    "summary = []\n",
    "for assay in assays:\n",
    "    \n",
    "    harmonized_assay = '{}_harmonized'.format(assay)\n",
    "    summary.append([assay, \n",
    "                    twenty_data[assay].shape[1],\n",
    "                    twentyone_data[assay].shape[1], \n",
    "                    twentyone_data[harmonized_assay].shape[1]])\n",
    "\n",
    "summary = pd.DataFrame(summary)\n",
    "summary.columns = ['Assay', '2020', '2021', 'Harmonized']"
   ]
  },
  {
   "cell_type": "code",
   "execution_count": 58,
   "id": "be81d853",
   "metadata": {},
   "outputs": [
    {
     "data": {
      "text/html": [
       "<div>\n",
       "<style scoped>\n",
       "    .dataframe tbody tr th:only-of-type {\n",
       "        vertical-align: middle;\n",
       "    }\n",
       "\n",
       "    .dataframe tbody tr th {\n",
       "        vertical-align: top;\n",
       "    }\n",
       "\n",
       "    .dataframe thead th {\n",
       "        text-align: right;\n",
       "    }\n",
       "</style>\n",
       "<table border=\"1\" class=\"dataframe\">\n",
       "  <thead>\n",
       "    <tr style=\"text-align: right;\">\n",
       "      <th></th>\n",
       "      <th>Assay</th>\n",
       "      <th>2020</th>\n",
       "      <th>2021</th>\n",
       "      <th>Harmonized</th>\n",
       "    </tr>\n",
       "  </thead>\n",
       "  <tbody>\n",
       "    <tr>\n",
       "      <th>0</th>\n",
       "      <td>abtiters</td>\n",
       "      <td>25</td>\n",
       "      <td>22</td>\n",
       "      <td>20</td>\n",
       "    </tr>\n",
       "    <tr>\n",
       "      <th>1</th>\n",
       "      <td>cytof</td>\n",
       "      <td>27</td>\n",
       "      <td>44</td>\n",
       "      <td>23</td>\n",
       "    </tr>\n",
       "    <tr>\n",
       "      <th>2</th>\n",
       "      <td>olink</td>\n",
       "      <td>258</td>\n",
       "      <td>47</td>\n",
       "      <td>28</td>\n",
       "    </tr>\n",
       "    <tr>\n",
       "      <th>3</th>\n",
       "      <td>rnaseq</td>\n",
       "      <td>58349</td>\n",
       "      <td>58349</td>\n",
       "      <td>11589</td>\n",
       "    </tr>\n",
       "  </tbody>\n",
       "</table>\n",
       "</div>"
      ],
      "text/plain": [
       "      Assay   2020   2021  Harmonized\n",
       "0  abtiters     25     22          20\n",
       "1     cytof     27     44          23\n",
       "2     olink    258     47          28\n",
       "3    rnaseq  58349  58349       11589"
      ]
     },
     "execution_count": 58,
     "metadata": {},
     "output_type": "execute_result"
    }
   ],
   "source": [
    "summary.sort_values('Assay')"
   ]
  }
 ],
 "metadata": {
  "kernelspec": {
   "display_name": "HiC",
   "language": "python",
   "name": "hic_tls"
  },
  "language_info": {
   "codemirror_mode": {
    "name": "ipython",
    "version": 3
   },
   "file_extension": ".py",
   "mimetype": "text/x-python",
   "name": "python",
   "nbconvert_exporter": "python",
   "pygments_lexer": "ipython3",
   "version": "3.6.7"
  }
 },
 "nbformat": 4,
 "nbformat_minor": 5
}
