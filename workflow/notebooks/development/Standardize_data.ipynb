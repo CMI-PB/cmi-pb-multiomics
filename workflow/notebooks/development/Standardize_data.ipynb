{
 "cells": [
  {
   "cell_type": "code",
   "execution_count": null,
   "id": "f4a0440e",
   "metadata": {},
   "outputs": [],
   "source": [
    "import os \n",
    "import pandas as pd \n",
    "import numpy as np \n",
    "os.chdir('/mnt/BioHome/jreyna/jreyna/projects/cmi-pb-preds/')\n",
    "outdir = 'results/main/cmi_pb_datasets/processed/'\n",
    "os.makedirs(outdir, exist_ok=True)"
   ]
  },
  {
   "cell_type": "markdown",
   "id": "57eda21a",
   "metadata": {},
   "source": [
    "IgG1 and IgG4 day 14 and day 0 values for PT, FHA, and Pertactin"
   ]
  },
  {
   "cell_type": "code",
   "execution_count": null,
   "id": "97930d64",
   "metadata": {},
   "outputs": [],
   "source": [
    "assays = ('abtiters', 'cytof', 'olink', 'rnaseq')\n",
    "longnames = ('ab_titer', 'live_cell_percentages', 'olink_prot_exp', 'rnaseq')"
   ]
  },
  {
   "cell_type": "code",
   "execution_count": null,
   "id": "ff8fee6a",
   "metadata": {},
   "outputs": [],
   "source": [
    "# loading gencode data\n",
    "gencode = pd.read_table('results/refs/gencode/gencode.v38lift37.annotation.protein_coding.bed', header=None)\n",
    "gencode.columns = ['chr', 'start', 'end', 'strand', 'gene_id', 'gene_name']\n",
    "gencode['gene_nonversioned_id'] = gencode['gene_id'].str.replace('\\..*', '')"
   ]
  },
  {
   "cell_type": "code",
   "execution_count": null,
   "id": "af7c129f",
   "metadata": {},
   "outputs": [],
   "source": [
    "interm_dir = os.path.join(outdir, 'full')"
   ]
  },
  {
   "cell_type": "markdown",
   "id": "d53da804",
   "metadata": {},
   "source": [
    "## Load the 2020 data"
   ]
  },
  {
   "cell_type": "code",
   "execution_count": null,
   "id": "e5a72f1e",
   "metadata": {},
   "outputs": [],
   "source": [
    "twenty_data = {}\n",
    "\n",
    "# get meta master table\n",
    "for metatable in ('subject', 'specimen'): \n",
    "    fn = 'results/main/cmi_pb_datasets/raw/2020LD_{}.csv'.format(metatable)\n",
    "    df = pd.read_table(fn, sep=',')\n",
    "    twenty_data[metatable] = df\n",
    "    \n",
    "subjects = twenty_data['subject']\n",
    "specimen = twenty_data['specimen']\n",
    "master_meta = subjects.merge(specimen, on='subject_id')\n",
    "master_meta = master_meta[['subject_id',\n",
    "                           'specimen_id',\n",
    "                           'infancy_vac',\n",
    "                           'biological_sex',\n",
    "                           'year_of_birth',\n",
    "                           'date_of_boost',\n",
    "                           'actual_day_relative_to_boost',\n",
    "                           'planned_day_relative_to_boost',\n",
    "                           'ethnicity',\n",
    "                           'race',\n",
    "                           'dataset',\n",
    "                           'specimen_type',\n",
    "                           'visit']]\n",
    "\n",
    "# defining the meta columns (used to remove columns later one)\n",
    "meta_cols = ['specimen_id', 'infancy_vac', 'biological_sex',\n",
    "             'year_of_birth', 'date_of_boost', 'actual_day_relative_to_boost',\n",
    "             'ethnicity', 'race', 'dataset',\n",
    "             'specimen_type', 'visit']\n",
    "\n",
    "twenty_data['master_meta'] = master_meta\n",
    "\n",
    "# save meta\n",
    "meta_fn = os.path.join(interm_dir, 'meta.2020.pivoted.tsv')\n",
    "twenty_data['master_meta'].to_csv(meta_fn, sep='\\t')"
   ]
  },
  {
   "cell_type": "code",
   "execution_count": null,
   "id": "0f1d7fb5",
   "metadata": {},
   "outputs": [],
   "source": [
    "# code to switch between different MFI's \n",
    "#curr_mfi, curr_mfi_name = ('MFI', 'mfi_raw')\n",
    "curr_mfi, curr_mfi_name = ('MFI_normalised', 'mfi_normalised')"
   ]
  },
  {
   "cell_type": "code",
   "execution_count": null,
   "id": "78dbd00d",
   "metadata": {},
   "outputs": [],
   "source": [
    "for i, longname in enumerate(longnames): \n",
    "    fn = 'results/main/cmi_pb_datasets/raw/2020LD_{}.csv'.format(longname)\n",
    "    df = pd.read_table(fn, sep=',')\n",
    "    \n",
    "    print(fn)\n",
    "        \n",
    "    if assays[i] == 'rnaseq':\n",
    "        df.loc[:, 'ensembl_gene_id'] = df.loc[:, 'versioned_ensembl_gene_id'].str.replace('\\.[0-9]+', '')\n",
    "        df = df.pivot(index='specimen_id', columns='ensembl_gene_id', values='tpm')\n",
    "        df = master_meta.merge(df, on='specimen_id')\n",
    "        \n",
    "    elif assays[i] == 'cytof':\n",
    "        df = df.pivot(index='specimen_id', columns='cell_type_name', values='percent_live_cell')\n",
    "        df = master_meta.merge(df, on='specimen_id')\n",
    "        \n",
    "    elif assays[i] == 'olink':\n",
    "        # Still getting duplicate specimens? \n",
    "        df = df[df['unit'] == \"Normalized Protein eXpression\"]\n",
    "        df = df[df['quality_control'] == 'Pass']\n",
    "        df = df[df['protein_expression'] > df['lower_limit_of_quantitation']]\n",
    "        df = df.pivot(index='specimen_id', columns='uniprot_id', values='protein_expression')\n",
    "        df = master_meta.merge(df, on='specimen_id')      \n",
    "        \n",
    "    elif assays[i] == 'abtiters':\n",
    "        aglist = ['1% PFA PT', 'PT', 'PRN', 'FHA', 'FIM2/3']\n",
    "        df = df.loc[df.antigen.isin(aglist), :]\n",
    "        df['antigen'].replace(to_replace='1% PFA PT', value='PT', inplace=True)\n",
    "        df['isotype_antigen'] = df['isotype'] + '-' + df['antigen']\n",
    "        df = df.pivot(index='specimen_id', columns='isotype_antigen', values=curr_mfi)\n",
    "        df = master_meta.merge(df, on='specimen_id')  \n",
    "        \n",
    "    twenty_data[assays[i]] = df.drop(meta_cols, axis=1)    "
   ]
  },
  {
   "cell_type": "code",
   "execution_count": null,
   "id": "5aae310b",
   "metadata": {},
   "outputs": [],
   "source": [
    "for assay, df in twenty_data.items():\n",
    "    print(assay, df.subject_id.nunique())"
   ]
  },
  {
   "cell_type": "code",
   "execution_count": null,
   "id": "022e35db",
   "metadata": {},
   "outputs": [],
   "source": [
    "# save a dataframe for each assay on each day\n",
    "for assay, df in twenty_data.items():\n",
    "    if assay in ['cytof', 'olink', 'rnaseq', 'abtiters']:\n",
    "        print(assay)\n",
    "        for day, day_df in df.groupby('planned_day_relative_to_boost'):\n",
    "            \n",
    "            if assay == 'abtiters': \n",
    "                outfn = os.path.join(interm_dir, '{}.{}.2020.day{}.pivoted.tsv'.format(assay, curr_mfi_name, day))\n",
    "            else:\n",
    "                outfn = os.path.join(interm_dir, '{}.2020.day{}.pivoted.tsv'.format(assay, day))\n",
    "            \n",
    "            day_df.drop('planned_day_relative_to_boost', axis=1).to_csv(outfn, index=False, sep='\\t')\n",
    "            print(day, day_df.shape)"
   ]
  },
  {
   "cell_type": "markdown",
   "id": "27f3f979",
   "metadata": {},
   "source": [
    "# Load the 2021 data"
   ]
  },
  {
   "cell_type": "code",
   "execution_count": null,
   "id": "1367bde4",
   "metadata": {},
   "outputs": [],
   "source": [
    "twentyone_data = {}\n",
    "\n",
    "# get meta master table\n",
    "for metatable in ('subject', 'specimen'): \n",
    "    fn = 'results/main/cmi_pb_datasets/raw/2021BD_{}.csv'.format(metatable)\n",
    "    df = pd.read_table(fn, sep=',')\n",
    "    twentyone_data[metatable] = df\n",
    "    \n",
    "subjects = twentyone_data['subject']\n",
    "specimen = twentyone_data['specimen']\n",
    "master_meta = subjects.merge(specimen, on='subject_id')\n",
    "master_meta = master_meta[['subject_id',\n",
    "                           'specimen_id',\n",
    "                           'infancy_vac',\n",
    "                           'biological_sex',\n",
    "                           'year_of_birth',\n",
    "                           'date_of_boost',\n",
    "                           'actual_day_relative_to_boost',\n",
    "                           'planned_day_relative_to_boost',\n",
    "                           'ethnicity',\n",
    "                           'race',\n",
    "                           'dataset',\n",
    "                           'specimen_type',\n",
    "                           'visit']]\n",
    "twentyone_data['master_meta'] = master_meta"
   ]
  },
  {
   "cell_type": "code",
   "execution_count": null,
   "id": "b4efa6f3",
   "metadata": {},
   "outputs": [],
   "source": [
    "for i, longname in enumerate(longnames): \n",
    "        \n",
    "    fn = 'results/main/cmi_pb_datasets/raw/2021BD_{}.csv'.format(longname)\n",
    "    df = pd.read_table(fn, sep=',')\n",
    "    \n",
    "    if assays[i] == 'rnaseq':\n",
    "        df.loc[:, 'ensembl_gene_id'] = df.loc[:, 'versioned_ensembl_gene_id'].str.replace('\\.[0-9]+', '')\n",
    "        df = df.pivot(index='specimen_id', columns='ensembl_gene_id', values='tpm')\n",
    "        df = master_meta.merge(df, on='specimen_id')\n",
    "                \n",
    "    elif assays[i] == 'cytof':\n",
    "        df = df.pivot(index='specimen_id', columns='cell_type_name', values='percent_live_cell')\n",
    "        df = master_meta.merge(df, on='specimen_id')\n",
    "        \n",
    "    elif assays[i] == 'olink':\n",
    "        df = df.pivot(index='specimen_id', columns='uniprot_id', values='protein_expression')\n",
    "        df = master_meta.merge(df, on='specimen_id')       \n",
    "        \n",
    "    elif assays[i] == 'abtiters':\n",
    "        aglist = ['PT', 'PRN', 'FHA', 'FIM2/3']\n",
    "        df = df.loc[df.antigen.isin(aglist), :]\n",
    "        df['isotype_antigen'] = df['isotype'] + '-' + df['antigen']\n",
    "        df = df.pivot(index='specimen_id', columns='isotype_antigen', values=curr_mfi)\n",
    "        df = master_meta.merge(df, on='specimen_id')  \n",
    "          \n",
    "    twentyone_data[assays[i]] = df.drop(meta_cols, axis=1)\n",
    "    "
   ]
  },
  {
   "cell_type": "code",
   "execution_count": null,
   "id": "29676087",
   "metadata": {},
   "outputs": [],
   "source": [
    "longname = 'live_cell_percentages'\n",
    "df = 'results/main/cmi_pb_datasets/raw/2021BD_{}.csv'.format(longname)\n",
    "\n",
    "df = pd.read_table(df, sep=',')\n",
    "\n",
    "df = df.pivot(index='specimen_id', columns='cell_type_name', values='percent_live_cell')\n",
    "df = master_meta.merge(df, on='specimen_id')"
   ]
  },
  {
   "cell_type": "code",
   "execution_count": null,
   "id": "1cb891b7",
   "metadata": {
    "scrolled": true
   },
   "outputs": [],
   "source": [
    "for assay, df in twentyone_data.items():\n",
    "    print(assay, df.subject_id.nunique())"
   ]
  },
  {
   "cell_type": "code",
   "execution_count": null,
   "id": "711275f8",
   "metadata": {},
   "outputs": [],
   "source": [
    "os.makedirs(interm_dir, exist_ok=True)\n",
    "\n",
    "# save abtiters  \n",
    "abtiters_fn = os.path.join(interm_dir, 'abtiters.{}.2021.day0.pivoted.tsv'.format(curr_mfi_name))\n",
    "twentyone_data['abtiters'].drop('planned_day_relative_to_boost', axis=1).to_csv(abtiters_fn, index=False, sep='\\t')\n",
    "\n",
    "# save cytof \n",
    "cytof_fn = os.path.join(interm_dir, 'cytof.2021.day0.pivoted.tsv')\n",
    "twentyone_data['cytof'].drop('planned_day_relative_to_boost', axis=1).to_csv(cytof_fn, index=False, sep='\\t')\n",
    "\n",
    "# save olink\n",
    "olink_fn = os.path.join(interm_dir, 'olink.2021.day0.pivoted.tsv')\n",
    "twentyone_data['olink'].drop('planned_day_relative_to_boost', axis=1).to_csv(olink_fn, index=False, sep='\\t')\n",
    "\n",
    "# save rnaseq\n",
    "rnaseq_fn = os.path.join(interm_dir, 'rnaseq.2021.day0.pivoted.tsv')\n",
    "twentyone_data['rnaseq'].drop('planned_day_relative_to_boost', axis=1).to_csv(rnaseq_fn, index=False, sep='\\t')\n",
    "\n",
    "# save meta\n",
    "meta_fn = os.path.join(interm_dir, 'meta.2021.pivoted.tsv')\n",
    "twentyone_data['master_meta'].to_csv(meta_fn, index=False, sep='\\t')"
   ]
  },
  {
   "cell_type": "code",
   "execution_count": null,
   "id": "a7ac8229",
   "metadata": {},
   "outputs": [],
   "source": [
    "# summary21 = []\n",
    "# for assay, df in twentyone_data.items():\n",
    "#     summary21.append([assay, df.subject_id.nunique()])\n",
    "\n",
    "# summary20 = []\n",
    "# for assay, df in twenty_data.items():\n",
    "#     summary20.append([df.subject_id.nunique()])\n",
    "\n",
    "# summary = pd.concat([pd.DataFrame(summary21), pd.DataFrame(summary20)], axis=1)\n",
    "# summary.columns = ('table', 'nsamples21', 'nsamples20')\n",
    "# summary = summary[['table', 'nsamples20', 'nsamples21']]"
   ]
  },
  {
   "cell_type": "code",
   "execution_count": null,
   "id": "e01d81e1",
   "metadata": {},
   "outputs": [],
   "source": [
    "# fn = 'results/main/cmi_pb_datasets/2020LD_{}.csv'.format('olink_prot_exp')\n",
    "# df = pd.read_table(fn, sep=',')"
   ]
  },
  {
   "cell_type": "markdown",
   "id": "2469c53e",
   "metadata": {},
   "source": [
    "## Standardize RNA-seq"
   ]
  },
  {
   "cell_type": "markdown",
   "id": "f914ba00",
   "metadata": {},
   "source": [
    "The RNA-seq dataset includes a lot more variables and processing so there are many steps we are including for standardization:\n",
    "\n",
    "    1) remove zero variance genes,\n",
    "    2) remove mitochondrial genes, \n",
    "    3) keep expressed genes (defined as those with TPM > 1) in more than a certain proportion of people (cut_filter)\n",
    "    4) intersect genes across 2020 and 2021 and finally make harmonized 2020 and 2021 tables "
   ]
  },
  {
   "cell_type": "code",
   "execution_count": null,
   "id": "93adf182",
   "metadata": {},
   "outputs": [],
   "source": [
    "# load gene data to find mitochondrial genes\n",
    "mito_genes = gencode.loc[(gencode.chr == 'chrM'), 'gene_nonversioned_id']\n",
    "mito_genes = set(mito_genes.unique().tolist())"
   ]
  },
  {
   "cell_type": "code",
   "execution_count": null,
   "id": "963f46e8",
   "metadata": {},
   "outputs": [],
   "source": [
    "# value used across both RNA-seq datasets\n",
    "cut_filter = 0.3"
   ]
  },
  {
   "cell_type": "markdown",
   "id": "c7f38f59",
   "metadata": {},
   "source": [
    "### RNA-seq for 2020"
   ]
  },
  {
   "cell_type": "code",
   "execution_count": null,
   "id": "4d3002ae",
   "metadata": {},
   "outputs": [],
   "source": [
    "# find zero variance genes \n",
    "tmp = twenty_data['rnaseq'].loc[twenty_data['rnaseq'].planned_day_relative_to_boost == 0]\n",
    "tmp = tmp.loc[:, tmp.columns.str.match('ENSG')]\n",
    "tmpvars = tmp.var()\n",
    "zero_var_genes = tmpvars[(tmpvars == 0)]\n",
    "zero_var_genes = set(zero_var_genes.index.tolist())"
   ]
  },
  {
   "cell_type": "code",
   "execution_count": null,
   "id": "1f5a76c9",
   "metadata": {},
   "outputs": [],
   "source": [
    "# locate genes which are expressed\n",
    "# defined as genes with TPM > 1 in more than 30% of samples \n",
    "expressed_genes = (tmp > 1).sum() > cut_filter * tmp.shape[0]\n",
    "expressed_genes = set(expressed_genes.index[expressed_genes.values.tolist()])"
   ]
  },
  {
   "cell_type": "code",
   "execution_count": null,
   "id": "06ccf776",
   "metadata": {},
   "outputs": [],
   "source": [
    "# get the final list of genes \n",
    "keep_genes = expressed_genes.difference(mito_genes).difference(zero_var_genes)\n",
    "keep_genes = keep_genes.intersection(gencode.gene_nonversioned_id.values.tolist())"
   ]
  },
  {
   "cell_type": "code",
   "execution_count": null,
   "id": "aa9ad603",
   "metadata": {},
   "outputs": [],
   "source": [
    "# make the final new_rnaseq table\n",
    "new_rnaseq1 = tmp.loc[:, ~tmp.columns.str.match('ENSG')]\n",
    "new_rnaseq2 = tmp.loc[:, keep_genes]\n",
    "twenty_data['rnaseq_std'] = pd.concat([new_rnaseq1, new_rnaseq2], axis=1)"
   ]
  },
  {
   "cell_type": "markdown",
   "id": "e3d96165",
   "metadata": {},
   "source": [
    "### RNA-seq for 2021"
   ]
  },
  {
   "cell_type": "code",
   "execution_count": null,
   "id": "3d4f32f0",
   "metadata": {},
   "outputs": [],
   "source": [
    "# find zero variance genes \n",
    "tmp = twentyone_data['rnaseq'].loc[twentyone_data['rnaseq'].planned_day_relative_to_boost == 0]\n",
    "tmp = tmp.loc[:, tmp.columns.str.match('ENSG')]\n",
    "tmpvars = tmp.var()\n",
    "zero_var_genes = tmpvars[(tmpvars == 0)]\n",
    "zero_var_genes = set(zero_var_genes.index.tolist())"
   ]
  },
  {
   "cell_type": "code",
   "execution_count": null,
   "id": "dd8a411f",
   "metadata": {},
   "outputs": [],
   "source": [
    "# locate genes which are expressed\n",
    "# defined as genes with TPM > 1 in more than 30% of samples \n",
    "expressed_genes = (tmp > 1).sum() > cut_filter * tmp.shape[0]\n",
    "expressed_genes = set(expressed_genes.index[expressed_genes.values.tolist()])"
   ]
  },
  {
   "cell_type": "code",
   "execution_count": null,
   "id": "4491e733",
   "metadata": {},
   "outputs": [],
   "source": [
    "# get the final list of genes \n",
    "keep_genes = expressed_genes.difference(mito_genes).difference(zero_var_genes)\n",
    "keep_genes = keep_genes.intersection(gencode.gene_nonversioned_id.values.tolist())"
   ]
  },
  {
   "cell_type": "code",
   "execution_count": null,
   "id": "2f405b2a",
   "metadata": {},
   "outputs": [],
   "source": [
    "# make the final new_rnaseq table\n",
    "new_rnaseq1 = tmp.loc[:, ~tmp.columns.str.match('ENSG')]\n",
    "new_rnaseq2 = tmp.loc[:, keep_genes]\n",
    "twentyone_data['rnaseq_std'] = pd.concat([new_rnaseq1, new_rnaseq2], axis=1)"
   ]
  },
  {
   "cell_type": "markdown",
   "id": "03fb76af",
   "metadata": {},
   "source": [
    "### Harmonize the RNA-seq datasets "
   ]
  },
  {
   "cell_type": "code",
   "execution_count": null,
   "id": "16da566d",
   "metadata": {},
   "outputs": [],
   "source": [
    "# get the shared genes between 2020 and 2021\n",
    "twenty_genes = set(twenty_data['rnaseq_std'].columns.str.extract('(ENSG[0-9]+)').dropna()[0])\n",
    "twentyone_genes = set(twentyone_data['rnaseq_std'].columns.str.extract('(ENSG[0-9]+)').dropna()[0])\n",
    "shared_genes = sorted(twenty_genes.intersection(twentyone_genes))"
   ]
  },
  {
   "cell_type": "code",
   "execution_count": null,
   "id": "91d4bdf1",
   "metadata": {},
   "outputs": [],
   "source": [
    "# getting harmonized for 2020 \n",
    "new_rnaseq1 = twenty_data['rnaseq'].loc[:, ~twenty_data['rnaseq'].columns.str.match('ENSG')]\n",
    "new_rnaseq2 = twenty_data['rnaseq'].loc[:, shared_genes]\n",
    "harmonized_df = pd.concat([new_rnaseq1, new_rnaseq2], axis=1)\n",
    "harmonized_df = harmonized_df.loc[harmonized_df.planned_day_relative_to_boost == 0]\n",
    "harmonized_df.drop('planned_day_relative_to_boost', axis=1, inplace=True)\n",
    "twenty_data['rnaseq_harmonized'] = harmonized_df"
   ]
  },
  {
   "cell_type": "code",
   "execution_count": null,
   "id": "aba1b9b8",
   "metadata": {},
   "outputs": [],
   "source": [
    "# getting harmonized for 2021\n",
    "new_rnaseq1 = twentyone_data['rnaseq'].loc[:, ~twentyone_data['rnaseq'].columns.str.match('ENSG')]\n",
    "new_rnaseq2 = twentyone_data['rnaseq'].loc[:, shared_genes]\n",
    "harmonized_df = pd.concat([new_rnaseq1, new_rnaseq2], axis=1)\n",
    "harmonized_df = harmonized_df.loc[harmonized_df.planned_day_relative_to_boost == 0]\n",
    "harmonized_df.drop('planned_day_relative_to_boost', axis=1, inplace=True)\n",
    "twentyone_data['rnaseq_harmonized'] = harmonized_df"
   ]
  },
  {
   "cell_type": "code",
   "execution_count": null,
   "id": "26d3be7f",
   "metadata": {},
   "outputs": [],
   "source": [
    "# save harmonize rnaseq\n",
    "harmony_dir = os.path.join(outdir, 'harmonized/')\n",
    "os.makedirs(harmony_dir, exist_ok=True)\n",
    "\n",
    "rnaseq_2020_fn = os.path.join(harmony_dir, 'rnaseq.2020.day0.pivoted.tsv')\n",
    "twenty_data['rnaseq_harmonized'].loc[:, ['subject_id'] + shared_genes].to_csv(rnaseq_2020_fn, index=False, sep='\\t')\n",
    "\n",
    "rnaseq_2021_fn = os.path.join(harmony_dir, 'rnaseq.2021.day0.pivoted.tsv')\n",
    "twentyone_data['rnaseq_harmonized'].loc[:, ['subject_id'] + shared_genes].to_csv(rnaseq_2021_fn, index=False, sep='\\t')"
   ]
  },
  {
   "cell_type": "markdown",
   "id": "9f3fe623",
   "metadata": {},
   "source": [
    "## Standardize CyTOF"
   ]
  },
  {
   "cell_type": "code",
   "execution_count": null,
   "id": "d66aeef3",
   "metadata": {},
   "outputs": [],
   "source": [
    "shared_cells = set(twenty_data['cytof'].columns).intersection(set(twentyone_data['cytof'].columns))\n",
    "shared_cells = sorted(list(shared_cells))\n",
    "shared_cells.remove('subject_id')\n",
    "shared_cells.remove('planned_day_relative_to_boost')"
   ]
  },
  {
   "cell_type": "code",
   "execution_count": null,
   "id": "fdb8ce52",
   "metadata": {},
   "outputs": [],
   "source": [
    "day0_rows = twenty_data['cytof']['planned_day_relative_to_boost'] == 0\n",
    "twenty_data['cytof_harmonized'] = twenty_data['cytof'].loc[day0_rows]\n",
    "twenty_data['cytof_harmonized'] = twenty_data['cytof_harmonized'].loc[:, ['subject_id'] + shared_cells]\n",
    "\n",
    "day0_rows = twentyone_data['cytof']['planned_day_relative_to_boost'] == 0\n",
    "twentyone_data['cytof_harmonized'] = twentyone_data['cytof'].loc[day0_rows]\n",
    "twentyone_data['cytof_harmonized'] = twentyone_data['cytof_harmonized'].loc[:, ['subject_id'] + shared_cells]"
   ]
  },
  {
   "cell_type": "code",
   "execution_count": null,
   "id": "e6f0cba9",
   "metadata": {},
   "outputs": [],
   "source": [
    "cytof_2020_fn = os.path.join(harmony_dir, 'cytof.2020.day0.pivoted.tsv')\n",
    "twenty_data['cytof_harmonized'].to_csv(cytof_2020_fn, index=False, sep='\\t')"
   ]
  },
  {
   "cell_type": "code",
   "execution_count": null,
   "id": "2c0019e5",
   "metadata": {},
   "outputs": [],
   "source": [
    "cytof_2021_fn = os.path.join(harmony_dir, 'cytof.2021.day0.pivoted.tsv')\n",
    "twentyone_data['cytof_harmonized'].to_csv(cytof_2021_fn, index=False, sep='\\t')"
   ]
  },
  {
   "cell_type": "code",
   "execution_count": null,
   "id": "136d9bd9",
   "metadata": {},
   "outputs": [],
   "source": [
    "twentyone_data['cytof_harmonized'].shape"
   ]
  },
  {
   "cell_type": "markdown",
   "id": "0a8f4918",
   "metadata": {},
   "source": [
    "## Standardize Ab Titers"
   ]
  },
  {
   "cell_type": "code",
   "execution_count": null,
   "id": "5a9d7a65",
   "metadata": {},
   "outputs": [],
   "source": [
    "abtiters_overlap = set(twenty_data['abtiters'].columns).intersection(twentyone_data['abtiters'].columns.tolist())\n",
    "abtiters_overlap.discard('planned_day_relative_to_boost')\n",
    "abtiters_overlap.discard('subject_id')\n",
    "abtiters_overlap = sorted(abtiters_overlap)"
   ]
  },
  {
   "cell_type": "code",
   "execution_count": null,
   "id": "8661b7c6",
   "metadata": {},
   "outputs": [],
   "source": [
    "twenty_data['abtiters_harmonized'] = twenty_data['abtiters'].\\\n",
    "        loc[twenty_data['abtiters'].planned_day_relative_to_boost == 0, ]\n",
    "twenty_data['abtiters_harmonized'] = twenty_data['abtiters_harmonized'].loc[:, ['subject_id'] + abtiters_overlap]\n",
    "new_abtiters_fn = os.path.join(harmony_dir, 'abtiters.{}.2020.day0.pivoted.tsv'.format(curr_mfi_name))\n",
    "twenty_data['abtiters_harmonized'].to_csv(new_abtiters_fn, sep='\\t', index=False)"
   ]
  },
  {
   "cell_type": "code",
   "execution_count": null,
   "id": "bdfd4b9b",
   "metadata": {},
   "outputs": [],
   "source": [
    "twentyone_data['abtiters_harmonized'] = twentyone_data['abtiters'].\\\n",
    "        loc[twentyone_data['abtiters'].planned_day_relative_to_boost == 0, ]\n",
    "twentyone_data['abtiters_harmonized'] = twentyone_data['abtiters_harmonized'].loc[:, ['subject_id'] + abtiters_overlap]\n",
    "new_abtiters_fn = os.path.join(harmony_dir, 'abtiters.{}.2021.day0.pivoted.tsv'.format(curr_mfi_name))\n",
    "twentyone_data['abtiters_harmonized'].to_csv(new_abtiters_fn, sep='\\t', index=False)"
   ]
  },
  {
   "cell_type": "markdown",
   "id": "7ea157a2",
   "metadata": {},
   "source": [
    "## Standardize Olink"
   ]
  },
  {
   "cell_type": "markdown",
   "id": "48e65733",
   "metadata": {},
   "source": [
    "### Checking Olink features "
   ]
  },
  {
   "cell_type": "code",
   "execution_count": null,
   "id": "b5c0740b",
   "metadata": {},
   "outputs": [],
   "source": [
    "def load_api_data(url):\n",
    "    \"\"\"\n",
    "    Loading data using the API.\n",
    "    \"\"\"\n",
    "\n",
    "    import urllib.request, json, ssl \n",
    "\n",
    "    gcontext = ssl.SSLContext()  \n",
    "    with urllib.request.urlopen(url, context=gcontext) as url:\n",
    "        data = url.read()\n",
    "        data = pd.read_json(data)\n",
    "        return(data)"
   ]
  },
  {
   "cell_type": "code",
   "execution_count": null,
   "id": "f3e5532c",
   "metadata": {},
   "outputs": [],
   "source": [
    "set(twenty_data['olink'].columns.tolist()).intersection(twentyone_data['olink'].columns.tolist())"
   ]
  },
  {
   "cell_type": "code",
   "execution_count": null,
   "id": "138c664f",
   "metadata": {},
   "outputs": [],
   "source": [
    "# load olink mapper\n",
    "url = 'https://www.cmi-pb.org:443/api/v2/olink_prot_info'\n",
    "olink_meta = load_api_data(url) \n",
    "olink_meta.set_index('olink_id', inplace=True)\n",
    "\n",
    "# keep non-duplicated values only\n",
    "olink_uniq = olink_meta.loc[~olink_meta.index.duplicated(keep=False), ]\n",
    "olink_uniq = olink_uniq.squeeze().to_dict()\n",
    "\n",
    "# keep only duplicated values\n",
    "olink_dups = olink_meta.loc[olink_meta.index.duplicated(keep=False), ]\n",
    "#olink_uniq = olink_uniq.squeeze().to_dict()"
   ]
  },
  {
   "cell_type": "markdown",
   "id": "415f4f7b",
   "metadata": {},
   "source": [
    "### Checking Olink features "
   ]
  },
  {
   "cell_type": "code",
   "execution_count": null,
   "id": "98b061e0",
   "metadata": {},
   "outputs": [],
   "source": [
    "check_olink_2020 = twenty_data['olink'].copy()\n",
    "check_olink_2020.rename(columns=olink_uniq, inplace=True)"
   ]
  },
  {
   "cell_type": "code",
   "execution_count": null,
   "id": "42ab074d",
   "metadata": {},
   "outputs": [],
   "source": [
    "check_olink_2021 = twentyone_data['olink'].copy()\n",
    "check_olink_2021.rename(columns=olink_uniq, inplace=True)"
   ]
  },
  {
   "cell_type": "code",
   "execution_count": null,
   "id": "d90aefd2",
   "metadata": {},
   "outputs": [],
   "source": [
    "olink_overlaps = set(check_olink_2020.columns.tolist()).intersection(check_olink_2021.columns.tolist())\n",
    "olink_overlaps.discard('planned_day_relative_to_boost')\n",
    "olink_overlaps.discard('subject_id')\n",
    "olink_overlaps = sorted(olink_overlaps)"
   ]
  },
  {
   "cell_type": "code",
   "execution_count": null,
   "id": "334754d7",
   "metadata": {},
   "outputs": [],
   "source": [
    "print('There are {} overlaps with the unique Uniprot proteins.'.format(len(olink_overlaps)))"
   ]
  },
  {
   "cell_type": "code",
   "execution_count": null,
   "id": "b554e1e9",
   "metadata": {},
   "outputs": [],
   "source": [
    "dup_overlaps = set(olink_overlaps).intersection(olink_dups.uniprot_id.tolist())\n",
    "print('There are {} overlaps with the duplicates.'.format(len(dup_overlaps)))"
   ]
  },
  {
   "cell_type": "code",
   "execution_count": null,
   "id": "d5a02f7b",
   "metadata": {},
   "outputs": [],
   "source": [
    "s = 'Olink data from 2020 has {} protein measurements'.format(twenty_data['olink'].shape[1] - 2)\n",
    "s += ' whereas 2021 has {}.'.format(twentyone_data['olink'].shape[1] - 2)\n",
    "print(s)"
   ]
  },
  {
   "cell_type": "markdown",
   "id": "1cad9a80",
   "metadata": {},
   "source": [
    "Seems like the olink to protein names database is not updated. I can't find the protein names for 2021 data. "
   ]
  },
  {
   "cell_type": "markdown",
   "id": "91126681",
   "metadata": {},
   "source": [
    "### Harmonizing features"
   ]
  },
  {
   "cell_type": "code",
   "execution_count": null,
   "id": "f3888c67",
   "metadata": {},
   "outputs": [],
   "source": [
    "twenty_olink_harmonized = check_olink_2020.copy()\n",
    "twenty_olink_harmonized = twenty_olink_harmonized.loc[twenty_olink_harmonized.planned_day_relative_to_boost == 0]\n",
    "twenty_olink_harmonized = twenty_olink_harmonized[['subject_id'] + olink_overlaps]\n",
    "twenty_harmonized_olink_fn = os.path.join(harmony_dir, 'olink.2020.day0.pivoted.tsv')\n",
    "twenty_olink_harmonized.to_csv(twenty_harmonized_olink_fn, sep='\\t', index=False)\n",
    "twenty_data['olink_harmonized'] = twenty_olink_harmonized"
   ]
  },
  {
   "cell_type": "code",
   "execution_count": null,
   "id": "1a5073a3",
   "metadata": {},
   "outputs": [],
   "source": [
    "twentyone_olink_harmonized = check_olink_2021.copy()\n",
    "twentyone_olink_harmonized = twentyone_olink_harmonized.loc[twentyone_olink_harmonized.planned_day_relative_to_boost == 0]\n",
    "twentyone_olink_harmonized = twentyone_olink_harmonized[['subject_id'] + olink_overlaps]\n",
    "twentyone_harmonized_olink_fn = os.path.join(harmony_dir, 'olink.2021.day0.pivoted.tsv')\n",
    "twentyone_olink_harmonized.to_csv(twentyone_harmonized_olink_fn, sep='\\t', index=False)\n",
    "twentyone_data['olink_harmonized'] = twentyone_olink_harmonized"
   ]
  },
  {
   "cell_type": "markdown",
   "id": "015153cb",
   "metadata": {},
   "source": [
    "## Providing all task vectors for training"
   ]
  },
  {
   "cell_type": "code",
   "execution_count": null,
   "id": "f30ad7a7",
   "metadata": {},
   "outputs": [],
   "source": [
    "from IPython.display import display"
   ]
  },
  {
   "cell_type": "code",
   "execution_count": null,
   "id": "638c9c3a",
   "metadata": {},
   "outputs": [],
   "source": [
    "# Loading the table describing each task \n",
    "tasks = pd.read_table('results/refs/tasks.tsv')\n",
    "\n",
    "# Making a task vector using GENE IDS for RNA based tasks\n",
    "i = 1\n",
    "for idd, task in tasks.iterrows():\n",
    "    \n",
    "    # extracting the required columns\n",
    "    cols = ['subject_id', task.fetchname]\n",
    "    task_data = twenty_data[task.assay]\n",
    "    task_data = task_data.loc[(task_data.planned_day_relative_to_boost == task.day), cols]\n",
    "    task_data.columns = ['subject_id', task.fetchname + '_day' + str(task.day)]    \n",
    "    \n",
    "    # merging the data together\n",
    "    if i == 1: \n",
    "        master_tasks = task_data\n",
    "    else:\n",
    "        master_tasks = master_tasks.merge(task_data, on='subject_id', how='outer')\n",
    "    i += 1 \n",
    "\n",
    "# saving the task matrix \n",
    "task_fn = os.path.join(harmony_dir, 'task_matrix.feature_names.tsv')\n",
    "master_tasks.to_csv(task_fn, sep='\\t', index=False)\n",
    "\n",
    "# Making a task vector using GENE NAMES for RNA based tasks\n",
    "i = 1\n",
    "for idd, task in tasks.iterrows():\n",
    "    \n",
    "    # extracting the required columns\n",
    "    cols = ['subject_id', task.fetchname]\n",
    "    task_data = twenty_data[task.assay]\n",
    "    task_data = task_data.loc[(task_data.planned_day_relative_to_boost == task.day), cols]\n",
    "    \n",
    "    if task.assay == 'rnaseq':\n",
    "        task_data.columns = ['subject_id', task.fullname + '_day' + str(task.day)]    \n",
    "    else:\n",
    "        task_data.columns = ['subject_id', task.fetchname + '_day' + str(task.day)]    \n",
    "    \n",
    "    # merging the data together\n",
    "    if i == 1: \n",
    "        master_tasks = task_data\n",
    "    else:\n",
    "        master_tasks = master_tasks.merge(task_data, on='subject_id', how='outer')\n",
    "    i += 1 \n",
    "\n",
    "# saving the task matrix \n",
    "task_fn = os.path.join(harmony_dir, 'task_matrix.common_names.tsv')\n",
    "master_tasks.to_csv(task_fn, sep='\\t', index=False)"
   ]
  },
  {
   "cell_type": "code",
   "execution_count": null,
   "id": "deba4c12",
   "metadata": {},
   "outputs": [],
   "source": [
    "twenty_data.keys()"
   ]
  },
  {
   "cell_type": "code",
   "execution_count": null,
   "id": "0d49a431",
   "metadata": {},
   "outputs": [],
   "source": [
    "master_tasks.head()"
   ]
  },
  {
   "cell_type": "markdown",
   "id": "5251bc5f",
   "metadata": {},
   "source": [
    "## Providing day 0 data for all task vectors (for fold change transformations)|"
   ]
  },
  {
   "cell_type": "code",
   "execution_count": null,
   "id": "cd7c5b07",
   "metadata": {},
   "outputs": [],
   "source": [
    "# Making a task vector using GENE IDS for RNA based tasks\n",
    "i = 1\n",
    "for idd, task in tasks.iterrows():\n",
    "    \n",
    "    # extracting the required columns\n",
    "    cols = ['subject_id', task.fetchname]\n",
    "    task_data = twenty_data[task.assay]\n",
    "    task_data = task_data.loc[(task_data.planned_day_relative_to_boost == 0), cols]\n",
    "    task_data.columns = ['subject_id', task.fetchname + '_day' + str(0)]    \n",
    "    \n",
    "    # merging the data together\n",
    "    if i == 1: \n",
    "        zero_day_tasks = task_data\n",
    "    else:\n",
    "        zero_day_tasks = zero_day_tasks.merge(task_data, on='subject_id', how='outer')\n",
    "    i += 1 \n",
    "\n",
    "# saving the task matrix \n",
    "task_fn = os.path.join(harmony_dir, 'zero_day_matrix.feature_names.tsv')\n",
    "zero_day_tasks.to_csv(task_fn, sep='\\t', index=False)"
   ]
  },
  {
   "cell_type": "code",
   "execution_count": null,
   "id": "177d6ed5",
   "metadata": {},
   "outputs": [],
   "source": [
    "# Making a task vector using GENE NAMES for RNA based tasks\n",
    "i = 1\n",
    "for idd, task in tasks.iterrows():\n",
    "    \n",
    "    # extracting the required columns\n",
    "    cols = ['subject_id', task.fetchname]\n",
    "    task_data = twenty_data[task.assay]\n",
    "    task_data = task_data.loc[(task_data.planned_day_relative_to_boost == 0), cols]\n",
    "    \n",
    "    if task.assay == 'rnaseq':\n",
    "        task_data.columns = ['subject_id', task.fullname + '_day' + str(0)]    \n",
    "    else:\n",
    "        task_data.columns = ['subject_id', task.fetchname + '_day' + str(0)]    \n",
    "    \n",
    "    # merging the data together\n",
    "    if i == 1: \n",
    "        zero_day_tasks = task_data\n",
    "    else:\n",
    "        zero_day_tasks = zero_day_tasks.merge(task_data, on='subject_id', how='outer')\n",
    "    i += 1 \n",
    "\n",
    "# saving the task matrix \n",
    "task_fn = os.path.join(harmony_dir, 'zero_day_matrix.common_names.tsv')\n",
    "zero_day_tasks.to_csv(task_fn, sep='\\t', index=False)"
   ]
  },
  {
   "cell_type": "code",
   "execution_count": null,
   "id": "e18411dd",
   "metadata": {},
   "outputs": [],
   "source": [
    "zero_day_tasks"
   ]
  },
  {
   "cell_type": "markdown",
   "id": "944f2daf",
   "metadata": {},
   "source": [
    "## Providing meta data into a basic format"
   ]
  },
  {
   "cell_type": "code",
   "execution_count": null,
   "id": "e8f2bfbc",
   "metadata": {},
   "outputs": [],
   "source": [
    "twenty_basic_meta = twenty_data['master_meta'].drop_duplicates('subject_id')\n",
    "drop_cols = ['specimen_id', 'actual_day_relative_to_boost', 'planned_day_relative_to_boost', 'visit', 'dataset']\n",
    "twenty_basic_meta.drop(drop_cols, axis=1, inplace=True)\n",
    "\n",
    "twenty_basic_fn = os.path.join(harmony_dir, 'clinical_metadata.2020.tsv')\n",
    "twenty_basic_meta.to_csv(twenty_basic_fn, sep='\\t', index=False)"
   ]
  },
  {
   "cell_type": "code",
   "execution_count": null,
   "id": "7b7c86df",
   "metadata": {},
   "outputs": [],
   "source": [
    "twentyone_basic_meta = twentyone_data['master_meta'].drop_duplicates('subject_id')\n",
    "twentyone_basic_meta.drop(drop_cols, axis=1, inplace=True)\n",
    "\n",
    "twentyone_basic_fn = os.path.join(harmony_dir, 'clinical_metadata.2021.tsv')\n",
    "twentyone_basic_meta.to_csv(twentyone_basic_fn, sep='\\t', index=False)"
   ]
  },
  {
   "cell_type": "markdown",
   "id": "57be5bb2",
   "metadata": {},
   "source": [
    "# Summarize the harmonization process"
   ]
  },
  {
   "cell_type": "code",
   "execution_count": null,
   "id": "ca204a16",
   "metadata": {},
   "outputs": [],
   "source": [
    "summary = []\n",
    "for assay in assays:\n",
    "    \n",
    "    harmonized_assay = '{}_harmonized'.format(assay)\n",
    "    summary.append([assay, \n",
    "                    twenty_data[assay].shape[1],\n",
    "                    twentyone_data[assay].shape[1], \n",
    "                    twentyone_data[harmonized_assay].shape[1]])\n",
    "\n",
    "summary = pd.DataFrame(summary)\n",
    "summary.columns = ['Assay', '2020', '2021', 'Harmonized']"
   ]
  },
  {
   "cell_type": "code",
   "execution_count": null,
   "id": "be81d853",
   "metadata": {},
   "outputs": [],
   "source": [
    "summary.sort_values('Assay')"
   ]
  },
  {
   "cell_type": "code",
   "execution_count": null,
   "id": "799a7692",
   "metadata": {},
   "outputs": [],
   "source": []
  },
  {
   "cell_type": "code",
   "execution_count": 123,
   "id": "dfa0e4c4",
   "metadata": {},
   "outputs": [
    {
     "data": {
      "text/plain": [
       "14"
      ]
     },
     "execution_count": 123,
     "metadata": {},
     "output_type": "execute_result"
    }
   ],
   "source": [
    "7 + 7 "
   ]
  },
  {
   "cell_type": "code",
   "execution_count": null,
   "id": "82ce9adc",
   "metadata": {},
   "outputs": [],
   "source": []
  },
  {
   "cell_type": "code",
   "execution_count": null,
   "id": "85f2b02e",
   "metadata": {},
   "outputs": [],
   "source": []
  },
  {
   "cell_type": "code",
   "execution_count": null,
   "id": "99df253a",
   "metadata": {},
   "outputs": [],
   "source": []
  },
  {
   "cell_type": "code",
   "execution_count": 62,
   "id": "b9acbdff",
   "metadata": {},
   "outputs": [
    {
     "data": {
      "text/plain": [
       "0      2.863\n",
       "1      9.752\n",
       "2      5.806\n",
       "3      0.017\n",
       "4      0.053\n",
       "5      3.846\n",
       "6      5.879\n",
       "7      0.064\n",
       "8      6.097\n",
       "9      4.294\n",
       "10     4.834\n",
       "11     4.547\n",
       "12     7.453\n",
       "13    10.226\n",
       "14     5.942\n",
       "15     9.641\n",
       "16     0.019\n",
       "17     5.255\n",
       "18     0.019\n",
       "19     6.176\n",
       "20     0.069\n",
       "21     5.796\n",
       "22    13.175\n",
       "23     2.752\n",
       "24    10.943\n",
       "25     3.035\n",
       "26     0.000\n",
       "27     0.007\n",
       "28     4.559\n",
       "29     4.734\n",
       "30     0.008\n",
       "31     9.138\n",
       "32     5.906\n",
       "33     0.000\n",
       "34     8.604\n",
       "35     0.030\n",
       "Name: ENSG00000229807, dtype: float64"
      ]
     },
     "execution_count": 62,
     "metadata": {},
     "output_type": "execute_result"
    }
   ],
   "source": [
    "twentyone_data['rnaseq_harmonized'].loc[:, 'ENSG00000229807']"
   ]
  }
 ],
 "metadata": {
  "kernelspec": {
   "display_name": "HiC",
   "language": "python",
   "name": "hic_tls"
  },
  "language_info": {
   "codemirror_mode": {
    "name": "ipython",
    "version": 3
   },
   "file_extension": ".py",
   "mimetype": "text/x-python",
   "name": "python",
   "nbconvert_exporter": "python",
   "pygments_lexer": "ipython3",
   "version": "3.6.7"
  }
 },
 "nbformat": 4,
 "nbformat_minor": 5
}
