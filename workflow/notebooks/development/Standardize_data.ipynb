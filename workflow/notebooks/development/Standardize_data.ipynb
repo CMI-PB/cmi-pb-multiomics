{
 "cells": [
  {
   "cell_type": "code",
   "execution_count": 1,
   "id": "f4a0440e",
   "metadata": {},
   "outputs": [],
   "source": [
    "import os \n",
    "import pandas as pd \n",
    "import numpy as np \n",
    "os.chdir('/mnt/BioHome/jreyna/jreyna/projects/cmi-pb-preds/')\n",
    "outdir = 'results/main/cmi_pb_datasets/processed/'\n",
    "os.makedirs(outdir, exist_ok=True)"
   ]
  },
  {
   "cell_type": "code",
   "execution_count": 2,
   "id": "97930d64",
   "metadata": {},
   "outputs": [],
   "source": [
    "assays = ('cytof', 'olink', 'rnaseq', 'abtiters')\n",
    "longnames = ('live_cell_percentages', 'olink_prot_exp', 'rnaseq', 'ab_titer')"
   ]
  },
  {
   "cell_type": "code",
   "execution_count": 3,
   "id": "ff8fee6a",
   "metadata": {},
   "outputs": [],
   "source": [
    "# loading gencode data\n",
    "gencode = pd.read_table('results/refs/gencode/gencode.v38lift37.annotation.protein_coding.bed', header=None)\n",
    "gencode.columns = ['chr', 'start', 'end', 'strand', 'gene_id', 'gene_name']\n",
    "gencode['gene_nonversioned_id'] = gencode['gene_id'].str.replace('\\..*', '')"
   ]
  },
  {
   "cell_type": "code",
   "execution_count": 4,
   "id": "af7c129f",
   "metadata": {},
   "outputs": [],
   "source": [
    "interm_dir = os.path.join(outdir, 'full')"
   ]
  },
  {
   "cell_type": "markdown",
   "id": "d53da804",
   "metadata": {},
   "source": [
    "## Load the 2020 data"
   ]
  },
  {
   "cell_type": "code",
   "execution_count": 5,
   "id": "e5a72f1e",
   "metadata": {},
   "outputs": [],
   "source": [
    "twenty_data = {}\n",
    "\n",
    "# get meta master table\n",
    "for metatable in ('subject', 'specimen'): \n",
    "    fn = 'results/main/cmi_pb_datasets/raw/2020LD_{}.csv'.format(metatable)\n",
    "    df = pd.read_table(fn, sep=',')\n",
    "    twenty_data[metatable] = df\n",
    "    \n",
    "subjects = twenty_data['subject']\n",
    "specimen = twenty_data['specimen']\n",
    "master_meta = subjects.merge(specimen, on='subject_id')\n",
    "master_meta = master_meta[['subject_id',\n",
    "                           'specimen_id',\n",
    "                           'infancy_vac',\n",
    "                           'biological_sex',\n",
    "                           'year_of_birth',\n",
    "                           'date_of_boost',\n",
    "                           'actual_day_relative_to_boost',\n",
    "                           'planned_day_relative_to_boost',\n",
    "                           'ethnicity',\n",
    "                           'race',\n",
    "                           'dataset',\n",
    "                           'specimen_type',\n",
    "                           'visit']]\n",
    "\n",
    "# defining the meta columns (used to remove columns later one)\n",
    "meta_cols = ['specimen_id', 'infancy_vac', 'biological_sex',\n",
    "             'year_of_birth', 'date_of_boost', 'actual_day_relative_to_boost',\n",
    "             'ethnicity', 'race', 'dataset',\n",
    "             'specimen_type', 'visit']\n",
    "\n",
    "twenty_data['master_meta'] = master_meta\n",
    "\n",
    "# save meta\n",
    "meta_fn = os.path.join(interm_dir, 'meta.2020.pivoted.tsv.gz')\n",
    "twenty_data['master_meta'].to_csv(meta_fn, sep='\\t')"
   ]
  },
  {
   "cell_type": "code",
   "execution_count": 6,
   "id": "78dbd00d",
   "metadata": {},
   "outputs": [
    {
     "name": "stdout",
     "output_type": "stream",
     "text": [
      "results/main/cmi_pb_datasets/raw/2020LD_live_cell_percentages.csv\n",
      "results/main/cmi_pb_datasets/raw/2020LD_olink_prot_exp.csv\n",
      "results/main/cmi_pb_datasets/raw/2020LD_rnaseq.csv\n",
      "results/main/cmi_pb_datasets/raw/2020LD_ab_titer.csv\n"
     ]
    }
   ],
   "source": [
    "for i, longname in enumerate(longnames): \n",
    "    fn = 'results/main/cmi_pb_datasets/raw/2020LD_{}.csv'.format(longname)\n",
    "    df = pd.read_table(fn, sep=',')\n",
    "    \n",
    "    print(fn)\n",
    "    \n",
    "    if assays[i] == 'rnaseq':\n",
    "        df.loc[:, 'ensembl_gene_id'] = df.loc[:, 'versioned_ensembl_gene_id'].str.replace('\\.[0-9]+', '')\n",
    "        df = df.pivot(index='specimen_id', columns='ensembl_gene_id', values='tpm')\n",
    "        df = master_meta.merge(df, on='specimen_id')\n",
    "        \n",
    "    elif assays[i] == 'cytof':\n",
    "        df = df.pivot(index='specimen_id', columns='cell_type_name', values='percent_live_cell')\n",
    "        df = master_meta.merge(df, on='specimen_id')\n",
    "        \n",
    "    elif assays[i] == 'olink':\n",
    "        # Still getting duplicate specimens? \n",
    "        df = df[df['unit'] == \"Normalized Protein eXpression\"]\n",
    "        df = df[df['quality_control'] == 'Pass']\n",
    "        df = df[df['protein_expression'] > df['lower_limit_of_quantitation']]\n",
    "        df = df.pivot(index='specimen_id', columns='olink_id', values='protein_expression')\n",
    "        df = master_meta.merge(df, on='specimen_id')      \n",
    "        \n",
    "    else:\n",
    "        aglist = ['PT', 'PRN', 'FHA', 'FIM2/3']\n",
    "        df = df.loc[df.antigen.isin(aglist), :]\n",
    "        df['isotype_antigen'] = df['isotype'] + '-' + df['antigen']\n",
    "        df = df.pivot(index='specimen_id', columns='isotype_antigen', values='ab_titer')\n",
    "        df = master_meta.merge(df, on='specimen_id')  \n",
    "\n",
    "    twenty_data[assays[i]] = df.drop(meta_cols, axis=1)\n",
    "    "
   ]
  },
  {
   "cell_type": "code",
   "execution_count": 7,
   "id": "5aae310b",
   "metadata": {},
   "outputs": [
    {
     "name": "stdout",
     "output_type": "stream",
     "text": [
      "subject 60\n",
      "specimen 60\n",
      "master_meta 60\n",
      "cytof 20\n",
      "olink 18\n",
      "rnaseq 36\n",
      "abtiters 58\n"
     ]
    }
   ],
   "source": [
    "for assay, df in twenty_data.items():\n",
    "    print(assay, df.subject_id.nunique())"
   ]
  },
  {
   "cell_type": "code",
   "execution_count": 8,
   "id": "022e35db",
   "metadata": {},
   "outputs": [
    {
     "name": "stdout",
     "output_type": "stream",
     "text": [
      "cytof\n",
      "0 (20, 27)\n",
      "1 (20, 27)\n",
      "3 (20, 27)\n",
      "7 (20, 27)\n",
      "14 (20, 27)\n",
      "olink\n",
      "0 (18, 256)\n",
      "1 (18, 256)\n",
      "3 (18, 256)\n",
      "7 (18, 256)\n",
      "14 (18, 256)\n",
      "rnaseq\n",
      "0 (36, 58349)\n",
      "1 (36, 58349)\n",
      "3 (36, 58349)\n",
      "7 (36, 58349)\n",
      "14 (36, 58349)\n",
      "abtiters\n",
      "0 (58, 20)\n",
      "1 (57, 20)\n",
      "3 (57, 20)\n",
      "7 (57, 20)\n",
      "14 (57, 20)\n",
      "30 (54, 20)\n",
      "90 (51, 20)\n",
      "386 (1, 20)\n",
      "402 (1, 20)\n",
      "428 (1, 20)\n"
     ]
    }
   ],
   "source": [
    "# save a dataframe for each assay on each day\n",
    "for assay, df in twenty_data.items():\n",
    "    if assay in ['cytof', 'olink', 'rnaseq', 'abtiters']:\n",
    "        print(assay)\n",
    "        for day, day_df in df.groupby('planned_day_relative_to_boost'):\n",
    "            outfn = os.path.join(interm_dir, '{}.2020.day{}.pivoted.tsv.gz'.format(assay, day))\n",
    "            day_df.drop('planned_day_relative_to_boost', axis=1).to_csv(outfn, index=False, sep='\\t')\n",
    "            print(day, day_df.shape)"
   ]
  },
  {
   "cell_type": "markdown",
   "id": "27f3f979",
   "metadata": {},
   "source": [
    "# Load the 2021 data"
   ]
  },
  {
   "cell_type": "code",
   "execution_count": 9,
   "id": "1367bde4",
   "metadata": {},
   "outputs": [],
   "source": [
    "twentyone_data = {}\n",
    "\n",
    "# get meta master table\n",
    "for metatable in ('subject', 'specimen'): \n",
    "    fn = 'results/main/cmi_pb_datasets/raw/2021BD_{}.csv'.format(metatable)\n",
    "    df = pd.read_table(fn, sep=',')\n",
    "    twentyone_data[metatable] = df\n",
    "    \n",
    "subjects = twentyone_data['subject']\n",
    "specimen = twentyone_data['specimen']\n",
    "master_meta = subjects.merge(specimen, on='subject_id')\n",
    "master_meta = master_meta[['subject_id',\n",
    "                           'specimen_id',\n",
    "                           'infancy_vac',\n",
    "                           'biological_sex',\n",
    "                           'year_of_birth',\n",
    "                           'date_of_boost',\n",
    "                           'actual_day_relative_to_boost',\n",
    "                           'planned_day_relative_to_boost',\n",
    "                           'ethnicity',\n",
    "                           'race',\n",
    "                           'dataset',\n",
    "                           'specimen_type',\n",
    "                           'visit']]\n",
    "twentyone_data['master_meta'] = master_meta"
   ]
  },
  {
   "cell_type": "code",
   "execution_count": 10,
   "id": "b4efa6f3",
   "metadata": {},
   "outputs": [],
   "source": [
    "for i, longname in enumerate(longnames): \n",
    "        \n",
    "    fn = 'results/main/cmi_pb_datasets/raw/2021BD_{}.csv'.format(longname)\n",
    "    df = pd.read_table(fn, sep=',')\n",
    "    \n",
    "    if assays[i] == 'rnaseq':\n",
    "        df.loc[:, 'ensembl_gene_id'] = df.loc[:, 'versioned_ensembl_gene_id'].str.replace('\\.[0-9]+', '')\n",
    "        df = df.pivot(index='specimen_id', columns='ensembl_gene_id', values='tpm')\n",
    "        df = master_meta.merge(df, on='specimen_id')\n",
    "                \n",
    "    elif assays[i] == 'cytof':\n",
    "        df = df.pivot(index='specimen_id', columns='cell_type_name', values='percent_live_cell')\n",
    "        df = master_meta.merge(df, on='specimen_id')\n",
    "        \n",
    "    elif assays[i] == 'olink':\n",
    "        df = df.pivot(index='specimen_id', columns='olink_id', values='protein_expression')\n",
    "        df = master_meta.merge(df, on='specimen_id')       \n",
    "        \n",
    "    else:\n",
    "        aglist = ['PT', 'PRN', 'FHA', 'FIM2/3']\n",
    "        df = df.loc[df.antigen.isin(aglist), :]\n",
    "        df['isotype_antigen'] = df['isotype'] + '-' + df['antigen']\n",
    "        df = df.pivot(index='specimen_id', columns='isotype_antigen', values='ab_titer')\n",
    "        df = master_meta.merge(df, on='specimen_id')  \n",
    "          \n",
    "    twentyone_data[assays[i]] = df.drop(meta_cols, axis=1)\n",
    "    "
   ]
  },
  {
   "cell_type": "code",
   "execution_count": 11,
   "id": "29676087",
   "metadata": {},
   "outputs": [],
   "source": [
    "longname = 'live_cell_percentages'\n",
    "df = 'results/main/cmi_pb_datasets/raw/2021BD_{}.csv'.format(longname)\n",
    "\n",
    "df = pd.read_table(df, sep=',')\n",
    "\n",
    "df = df.pivot(index='specimen_id', columns='cell_type_name', values='percent_live_cell')\n",
    "df = master_meta.merge(df, on='specimen_id')\n",
    "\n",
    "        "
   ]
  },
  {
   "cell_type": "code",
   "execution_count": 12,
   "id": "1cb891b7",
   "metadata": {
    "scrolled": true
   },
   "outputs": [
    {
     "name": "stdout",
     "output_type": "stream",
     "text": [
      "subject 36\n",
      "specimen 36\n",
      "master_meta 36\n",
      "cytof 33\n",
      "olink 36\n",
      "rnaseq 36\n",
      "abtiters 33\n"
     ]
    }
   ],
   "source": [
    "for assay, df in twentyone_data.items():\n",
    "    print(assay, df.subject_id.nunique())"
   ]
  },
  {
   "cell_type": "code",
   "execution_count": 13,
   "id": "711275f8",
   "metadata": {},
   "outputs": [],
   "source": [
    "os.makedirs(interm_dir, exist_ok=True)\n",
    "\n",
    "# save abtiters  \n",
    "abtiters_fn = os.path.join(interm_dir, 'abtiters.2021.day0.pivoted.tsv.gz')\n",
    "twentyone_data['abtiters'].drop('planned_day_relative_to_boost', axis=1).to_csv(abtiters_fn, index=False, sep='\\t')\n",
    "\n",
    "# save cytof \n",
    "cytof_fn = os.path.join(interm_dir, 'cytof.2021.day0.pivoted.tsv.gz')\n",
    "twentyone_data['cytof'].drop('planned_day_relative_to_boost', axis=1).to_csv(cytof_fn, index=False, sep='\\t')\n",
    "\n",
    "# save olink\n",
    "olink_fn = os.path.join(interm_dir, 'olink.2021.day0.pivoted.tsv.gz')\n",
    "twentyone_data['olink'].drop('planned_day_relative_to_boost', axis=1).to_csv(olink_fn, index=False, sep='\\t')\n",
    "\n",
    "# save rnaseq\n",
    "rnaseq_fn = os.path.join(interm_dir, 'rnaseq.2021.day0.pivoted.tsv.gz')\n",
    "twentyone_data['rnaseq'].drop('planned_day_relative_to_boost', axis=1).to_csv(rnaseq_fn, index=False, sep='\\t')\n",
    "\n",
    "# save meta\n",
    "meta_fn = os.path.join(interm_dir, 'meta.2021.pivoted.tsv.gz')\n",
    "twentyone_data['master_meta'].to_csv(meta_fn, index=False, sep='\\t')"
   ]
  },
  {
   "cell_type": "code",
   "execution_count": 14,
   "id": "a7ac8229",
   "metadata": {},
   "outputs": [],
   "source": [
    "# summary21 = []\n",
    "# for assay, df in twentyone_data.items():\n",
    "#     summary21.append([assay, df.subject_id.nunique()])\n",
    "\n",
    "# summary20 = []\n",
    "# for assay, df in twenty_data.items():\n",
    "#     summary20.append([df.subject_id.nunique()])\n",
    "\n",
    "# summary = pd.concat([pd.DataFrame(summary21), pd.DataFrame(summary20)], axis=1)\n",
    "# summary.columns = ('table', 'nsamples21', 'nsamples20')\n",
    "# summary = summary[['table', 'nsamples20', 'nsamples21']]"
   ]
  },
  {
   "cell_type": "code",
   "execution_count": 15,
   "id": "e01d81e1",
   "metadata": {},
   "outputs": [],
   "source": [
    "# fn = 'results/main/cmi_pb_datasets/2020LD_{}.csv'.format('olink_prot_exp')\n",
    "# df = pd.read_table(fn, sep=',')"
   ]
  },
  {
   "cell_type": "markdown",
   "id": "2469c53e",
   "metadata": {},
   "source": [
    "## Standardize RNA-seq"
   ]
  },
  {
   "cell_type": "markdown",
   "id": "f914ba00",
   "metadata": {},
   "source": [
    "The RNA-seq dataset includes a lot more variables and processing so there are many steps we are including for standardization:\n",
    "\n",
    "    1) remove zero variance genes,\n",
    "    2) remove mitochondrial genes, \n",
    "    3) keep expressed genes (defined as those with TPM > 1) in more than a certain proportion of people (cut_filter)\n",
    "    4) intersect genes across 2020 and 2021 and finally make harmonized 2020 and 2021 tables "
   ]
  },
  {
   "cell_type": "code",
   "execution_count": 16,
   "id": "93adf182",
   "metadata": {},
   "outputs": [],
   "source": [
    "# load gene data to find mitochondrial genes\n",
    "mito_genes = gencode.loc[(gencode.chr == 'chrM'), 'gene_nonversioned_id']\n",
    "mito_genes = set(mito_genes.unique().tolist())"
   ]
  },
  {
   "cell_type": "code",
   "execution_count": 17,
   "id": "963f46e8",
   "metadata": {},
   "outputs": [],
   "source": [
    "# value used across both RNA-seq datasets\n",
    "cut_filter = 0.3"
   ]
  },
  {
   "cell_type": "markdown",
   "id": "c7f38f59",
   "metadata": {},
   "source": [
    "### RNA-seq for 2020"
   ]
  },
  {
   "cell_type": "code",
   "execution_count": 18,
   "id": "4d3002ae",
   "metadata": {},
   "outputs": [],
   "source": [
    "# find zero variance genes \n",
    "tmp = twenty_data['rnaseq'].loc[twenty_data['rnaseq'].planned_day_relative_to_boost == 0]\n",
    "tmp = tmp.loc[:, tmp.columns.str.match('ENSG')]\n",
    "tmpvars = tmp.var()\n",
    "zero_var_genes = tmpvars[(tmpvars == 0)]\n",
    "zero_var_genes = set(zero_var_genes.index.tolist())"
   ]
  },
  {
   "cell_type": "code",
   "execution_count": 19,
   "id": "1f5a76c9",
   "metadata": {},
   "outputs": [],
   "source": [
    "# locate genes which are expressed\n",
    "# defined as genes with TPM > 1 in more than 30% of samples \n",
    "expressed_genes = (tmp > 1).sum() > cut_filter * tmp.shape[0]\n",
    "expressed_genes = set(expressed_genes.index[expressed_genes.values.tolist()])"
   ]
  },
  {
   "cell_type": "code",
   "execution_count": 20,
   "id": "06ccf776",
   "metadata": {},
   "outputs": [],
   "source": [
    "# get the final list of genes \n",
    "keep_genes = expressed_genes.difference(mito_genes).difference(zero_var_genes)\n",
    "keep_genes = keep_genes.intersection(gencode.gene_nonversioned_id.values.tolist())"
   ]
  },
  {
   "cell_type": "code",
   "execution_count": 21,
   "id": "aa9ad603",
   "metadata": {},
   "outputs": [],
   "source": [
    "# make the final new_rnaseq table\n",
    "new_rnaseq1 = tmp.loc[:, ~tmp.columns.str.match('ENSG')]\n",
    "new_rnaseq2 = tmp.loc[:, keep_genes]\n",
    "twenty_data['rnaseq_std'] = pd.concat([new_rnaseq1, new_rnaseq2], axis=1)"
   ]
  },
  {
   "cell_type": "markdown",
   "id": "e3d96165",
   "metadata": {},
   "source": [
    "### RNA-seq for 2021"
   ]
  },
  {
   "cell_type": "code",
   "execution_count": 22,
   "id": "3d4f32f0",
   "metadata": {},
   "outputs": [],
   "source": [
    "# find zero variance genes \n",
    "tmp = twentyone_data['rnaseq'].loc[twentyone_data['rnaseq'].planned_day_relative_to_boost == 0]\n",
    "tmp = tmp.loc[:, tmp.columns.str.match('ENSG')]\n",
    "tmpvars = tmp.var()\n",
    "zero_var_genes = tmpvars[(tmpvars == 0)]\n",
    "zero_var_genes = set(zero_var_genes.index.tolist())"
   ]
  },
  {
   "cell_type": "code",
   "execution_count": 23,
   "id": "dd8a411f",
   "metadata": {},
   "outputs": [],
   "source": [
    "# locate genes which are expressed\n",
    "# defined as genes with TPM > 1 in more than 30% of samples \n",
    "expressed_genes = (tmp > 1).sum() > cut_filter * tmp.shape[0]\n",
    "expressed_genes = set(expressed_genes.index[expressed_genes.values.tolist()])"
   ]
  },
  {
   "cell_type": "code",
   "execution_count": 24,
   "id": "4491e733",
   "metadata": {},
   "outputs": [],
   "source": [
    "# get the final list of genes \n",
    "keep_genes = expressed_genes.difference(mito_genes).difference(zero_var_genes)\n",
    "keep_genes = keep_genes.intersection(gencode.gene_nonversioned_id.values.tolist())"
   ]
  },
  {
   "cell_type": "code",
   "execution_count": 25,
   "id": "2f405b2a",
   "metadata": {},
   "outputs": [],
   "source": [
    "# make the final new_rnaseq table\n",
    "new_rnaseq1 = tmp.loc[:, ~tmp.columns.str.match('ENSG')]\n",
    "new_rnaseq2 = tmp.loc[:, keep_genes]\n",
    "twentyone_data['rnaseq_std'] = pd.concat([new_rnaseq1, new_rnaseq2], axis=1)"
   ]
  },
  {
   "cell_type": "markdown",
   "id": "03fb76af",
   "metadata": {},
   "source": [
    "### Harmonize the RNA-seq datasets "
   ]
  },
  {
   "cell_type": "code",
   "execution_count": 26,
   "id": "16da566d",
   "metadata": {},
   "outputs": [],
   "source": [
    "# get the shared genes between 2020 and 2021\n",
    "twenty_genes = set(twenty_data['rnaseq_std'].columns.str.extract('(ENSG[0-9]+)').dropna()[0])\n",
    "twentyone_genes = set(twentyone_data['rnaseq_std'].columns.str.extract('(ENSG[0-9]+)').dropna()[0])\n",
    "shared_genes = sorted(twenty_genes.intersection(twentyone_genes))"
   ]
  },
  {
   "cell_type": "code",
   "execution_count": 27,
   "id": "91d4bdf1",
   "metadata": {},
   "outputs": [],
   "source": [
    "# getting harmonized for 2020 \n",
    "new_rnaseq1 = twenty_data['rnaseq'].loc[:, ~twenty_data['rnaseq'].columns.str.match('ENSG')]\n",
    "new_rnaseq2 = twenty_data['rnaseq'].loc[:, shared_genes]\n",
    "harmonized_df = pd.concat([new_rnaseq1, new_rnaseq2], axis=1)\n",
    "harmonized_df = harmonized_df.loc[harmonized_df.planned_day_relative_to_boost == 0]\n",
    "harmonized_df.drop('planned_day_relative_to_boost', axis=1, inplace=True)\n",
    "twenty_data['rnaseq_harmonized'] = harmonized_df"
   ]
  },
  {
   "cell_type": "code",
   "execution_count": 28,
   "id": "aba1b9b8",
   "metadata": {},
   "outputs": [],
   "source": [
    "# getting harmonized for 2021\n",
    "new_rnaseq1 = twentyone_data['rnaseq'].loc[:, ~twentyone_data['rnaseq'].columns.str.match('ENSG')]\n",
    "new_rnaseq2 = twentyone_data['rnaseq'].loc[:, shared_genes]\n",
    "harmonized_df = pd.concat([new_rnaseq1, new_rnaseq2], axis=1)\n",
    "harmonized_df = harmonized_df.loc[harmonized_df.planned_day_relative_to_boost == 0]\n",
    "harmonized_df.drop('planned_day_relative_to_boost', axis=1, inplace=True)\n",
    "twentyone_data['rnaseq_harmonized'] = harmonized_df"
   ]
  },
  {
   "cell_type": "code",
   "execution_count": 29,
   "id": "26d3be7f",
   "metadata": {},
   "outputs": [],
   "source": [
    "# save harmonize rnaseq\n",
    "harmony_dir = os.path.join(outdir, 'harmonized/')\n",
    "os.makedirs(harmony_dir, exist_ok=True)\n",
    "\n",
    "rnaseq_2020_fn = os.path.join(harmony_dir, 'rnaseq.2020.day0.pivoted.tsv.gz')\n",
    "twenty_data['rnaseq_harmonized'].loc[:, ['subject_id'] + shared_genes].to_csv(rnaseq_2020_fn, index=False, sep='\\t')\n",
    "\n",
    "rnaseq_2021_fn = os.path.join(harmony_dir, 'rnaseq.2021.day0.pivoted.tsv.gz')\n",
    "twentyone_data['rnaseq_harmonized'].loc[:, ['subject_id'] + shared_genes].to_csv(rnaseq_2021_fn, index=False, sep='\\t')"
   ]
  },
  {
   "cell_type": "code",
   "execution_count": null,
   "id": "51aa2c90",
   "metadata": {},
   "outputs": [],
   "source": []
  },
  {
   "cell_type": "code",
   "execution_count": null,
   "id": "c07e5a3e",
   "metadata": {},
   "outputs": [],
   "source": []
  },
  {
   "cell_type": "code",
   "execution_count": null,
   "id": "52dcc2f4",
   "metadata": {},
   "outputs": [],
   "source": []
  },
  {
   "cell_type": "code",
   "execution_count": null,
   "id": "19bdccd9",
   "metadata": {},
   "outputs": [],
   "source": []
  },
  {
   "cell_type": "markdown",
   "id": "9f3fe623",
   "metadata": {},
   "source": [
    "## Standardize CyTOF"
   ]
  },
  {
   "cell_type": "code",
   "execution_count": 30,
   "id": "d66aeef3",
   "metadata": {},
   "outputs": [],
   "source": [
    "shared_cells = set(twenty_data['cytof'].columns).intersection(set(twentyone_data['cytof'].columns))\n",
    "shared_cells = sorted(list(shared_cells))\n",
    "shared_cells.remove('subject_id')\n",
    "shared_cells.remove('planned_day_relative_to_boost')"
   ]
  },
  {
   "cell_type": "code",
   "execution_count": 31,
   "id": "fdb8ce52",
   "metadata": {},
   "outputs": [],
   "source": [
    "day0_rows = twenty_data['cytof']['planned_day_relative_to_boost'] == 0\n",
    "twenty_data['cytof_harmonized'] = twenty_data['cytof'].loc[day0_rows]\n",
    "twenty_data['cytof_harmonized'] = twenty_data['cytof_harmonized'].loc[:, ['subject_id'] + shared_cells]\n",
    "\n",
    "day0_rows = twentyone_data['cytof']['planned_day_relative_to_boost'] == 0\n",
    "twentyone_data['cytof_harmonized'] = twentyone_data['cytof'].loc[day0_rows]\n",
    "twentyone_data['cytof_harmonized'] = twentyone_data['cytof_harmonized'].loc[:, ['subject_id'] + shared_cells]"
   ]
  },
  {
   "cell_type": "code",
   "execution_count": 32,
   "id": "e6f0cba9",
   "metadata": {},
   "outputs": [],
   "source": [
    "cytof_2020_fn = os.path.join(harmony_dir, 'cytof.2020.day0.pivoted.tsv.gz')\n",
    "twenty_data['cytof_harmonized'].to_csv(cytof_2020_fn, index=False, sep='\\t')"
   ]
  },
  {
   "cell_type": "code",
   "execution_count": 33,
   "id": "2c0019e5",
   "metadata": {},
   "outputs": [],
   "source": [
    "cytof_2021_fn = os.path.join(harmony_dir, 'cytof.2021.day0.pivoted.tsv.gz')\n",
    "twentyone_data['cytof_harmonized'].to_csv(cytof_2021_fn, index=False, sep='\\t')"
   ]
  },
  {
   "cell_type": "markdown",
   "id": "0a8f4918",
   "metadata": {},
   "source": [
    "## Standardize Ab Titers"
   ]
  },
  {
   "cell_type": "code",
   "execution_count": 34,
   "id": "eb4f5dec",
   "metadata": {},
   "outputs": [],
   "source": [
    "# save abtiters 2020\n",
    "old_abtiters_fn = os.path.abspath(os.path.join(interm_dir, 'abtiters.2020.day0.pivoted.tsv.gz'))\n",
    "new_abtiters_fn = os.path.join(harmony_dir, 'abtiters.2020.day0.pivoted.tsv.gz')\n",
    "if not os.path.islink(new_abtiters_fn):\n",
    "    os.link(old_abtiters_fn, new_abtiters_fn)\n",
    "\n",
    "# save abtiters 2021\n",
    "old_abtiters_fn = os.path.abspath(os.path.join(interm_dir, 'abtiters.2021.day0.pivoted.tsv.gz'))\n",
    "new_abtiters_fn = os.path.join(harmony_dir, 'abtiters.2021.day0.pivoted.tsv.gz')\n",
    "if not os.path.islink(new_abtiters_fn):\n",
    "    os.link(old_abtiters_fn, new_abtiters_fn)"
   ]
  },
  {
   "cell_type": "markdown",
   "id": "7ea157a2",
   "metadata": {},
   "source": [
    "## Standardize Olink"
   ]
  },
  {
   "cell_type": "code",
   "execution_count": 35,
   "id": "c39f5347",
   "metadata": {},
   "outputs": [],
   "source": [
    "# save olink 2020\n",
    "old_olink_fn = os.path.abspath(os.path.join(interm_dir, 'olink.2020.day0.pivoted.tsv.gz'))\n",
    "new_olink_fn = os.path.join(harmony_dir, 'olink.2020.day0.pivoted.tsv.gz')\n",
    "if not os.path.exists(new_olink_fn):\n",
    "    os.link(old_olink_fn, new_olink_fn)\n",
    "\n",
    "# save olink 2021\n",
    "old_olink_fn = os.path.abspath(os.path.join(interm_dir, 'olink.2021.day0.pivoted.tsv.gz'))\n",
    "new_olink_fn = os.path.join(harmony_dir, 'olink.2021.day0.pivoted.tsv.gz')\n",
    "if not os.path.exists(new_olink_fn):\n",
    "    os.link(old_olink_fn, new_olink_fn)"
   ]
  },
  {
   "cell_type": "markdown",
   "id": "015153cb",
   "metadata": {},
   "source": [
    "## Providing all task vectors for training"
   ]
  },
  {
   "cell_type": "code",
   "execution_count": 36,
   "id": "f30ad7a7",
   "metadata": {},
   "outputs": [],
   "source": [
    "from IPython.display import display"
   ]
  },
  {
   "cell_type": "code",
   "execution_count": 37,
   "id": "638c9c3a",
   "metadata": {},
   "outputs": [],
   "source": [
    "# Loading the table describing each task \n",
    "tasks = pd.read_table('results/refs/tasks.tsv')\n",
    "\n",
    "# Making a task vector using GENE IDS for RNA based tasks\n",
    "i = 1\n",
    "for idd, task in tasks.iterrows():\n",
    "    \n",
    "    # extracting the required columns\n",
    "    cols = ['subject_id', task.fetchname]\n",
    "    task_data = twenty_data[task.assay]\n",
    "    task_data = task_data.loc[(task_data.planned_day_relative_to_boost == task.day), cols]\n",
    "    task_data.columns = ['subject_id', task.fetchname + '_day' + str(task.day)]    \n",
    "    \n",
    "    # merging the data together\n",
    "    if i == 1: \n",
    "        master_tasks = task_data\n",
    "    else:\n",
    "        master_tasks = master_tasks.merge(task_data, on='subject_id', how='outer')\n",
    "    i += 1 \n",
    "\n",
    "# saving the task matrix \n",
    "task_fn = os.path.join(harmony_dir, 'task_matrix.feature_names.tsv.gz')\n",
    "master_tasks.to_csv(task_fn, sep='\\t', index=False)\n",
    "\n",
    "# Making a task vector using GENE NAMES for RNA based tasks\n",
    "i = 1\n",
    "for idd, task in tasks.iterrows():\n",
    "    \n",
    "    # extracting the required columns\n",
    "    cols = ['subject_id', task.fetchname]\n",
    "    task_data = twenty_data[task.assay]\n",
    "    task_data = task_data.loc[(task_data.planned_day_relative_to_boost == task.day), cols]\n",
    "    \n",
    "    if task.assay == 'rnaseq':\n",
    "        task_data.columns = ['subject_id', task.fullname + '_day' + str(task.day)]    \n",
    "    else:\n",
    "        task_data.columns = ['subject_id', task.fetchname + '_day' + str(task.day)]    \n",
    "    \n",
    "    # merging the data together\n",
    "    if i == 1: \n",
    "        master_tasks = task_data\n",
    "    else:\n",
    "        master_tasks = master_tasks.merge(task_data, on='subject_id', how='outer')\n",
    "    i += 1 \n",
    "\n",
    "# saving the task matrix \n",
    "task_fn = os.path.join(harmony_dir, 'task_matrix.common_names.tsv.gz')\n",
    "master_tasks.to_csv(task_fn, sep='\\t', index=False)\n",
    "\n"
   ]
  },
  {
   "cell_type": "code",
   "execution_count": 38,
   "id": "0d49a431",
   "metadata": {},
   "outputs": [
    {
     "data": {
      "text/html": [
       "<div>\n",
       "<style scoped>\n",
       "    .dataframe tbody tr th:only-of-type {\n",
       "        vertical-align: middle;\n",
       "    }\n",
       "\n",
       "    .dataframe tbody tr th {\n",
       "        vertical-align: top;\n",
       "    }\n",
       "\n",
       "    .dataframe thead th {\n",
       "        text-align: right;\n",
       "    }\n",
       "</style>\n",
       "<table border=\"1\" class=\"dataframe\">\n",
       "  <thead>\n",
       "    <tr style=\"text-align: right;\">\n",
       "      <th></th>\n",
       "      <th>subject_id</th>\n",
       "      <th>IgG-PT_day14</th>\n",
       "      <th>IgG-FHA_day14</th>\n",
       "      <th>IgG-PRN_day14</th>\n",
       "      <th>Monocytes_day1</th>\n",
       "      <th>ASCs (Plasmablasts)_day7</th>\n",
       "      <th>CD4Tcells_day3</th>\n",
       "      <th>CCL3_day3</th>\n",
       "      <th>IL-6_day3</th>\n",
       "      <th>NFKBIA_day7</th>\n",
       "      <th>XIST_day14</th>\n",
       "    </tr>\n",
       "  </thead>\n",
       "  <tbody>\n",
       "    <tr>\n",
       "      <th>0</th>\n",
       "      <td>1</td>\n",
       "      <td>229.603692</td>\n",
       "      <td>0.064000</td>\n",
       "      <td>1039.814648</td>\n",
       "      <td>NaN</td>\n",
       "      <td>NaN</td>\n",
       "      <td>NaN</td>\n",
       "      <td>46.410</td>\n",
       "      <td>3.814</td>\n",
       "      <td>651.685</td>\n",
       "      <td>146.247</td>\n",
       "    </tr>\n",
       "    <tr>\n",
       "      <th>1</th>\n",
       "      <td>3</td>\n",
       "      <td>129.197956</td>\n",
       "      <td>640.894817</td>\n",
       "      <td>1030.816658</td>\n",
       "      <td>NaN</td>\n",
       "      <td>NaN</td>\n",
       "      <td>NaN</td>\n",
       "      <td>26.204</td>\n",
       "      <td>2.646</td>\n",
       "      <td>575.733</td>\n",
       "      <td>121.084</td>\n",
       "    </tr>\n",
       "    <tr>\n",
       "      <th>2</th>\n",
       "      <td>4</td>\n",
       "      <td>105.426574</td>\n",
       "      <td>162.807830</td>\n",
       "      <td>874.712337</td>\n",
       "      <td>7.211965</td>\n",
       "      <td>1.77</td>\n",
       "      <td>8.700555</td>\n",
       "      <td>13.353</td>\n",
       "      <td>3.770</td>\n",
       "      <td>550.870</td>\n",
       "      <td>0.132</td>\n",
       "    </tr>\n",
       "    <tr>\n",
       "      <th>3</th>\n",
       "      <td>5</td>\n",
       "      <td>97.743258</td>\n",
       "      <td>0.064000</td>\n",
       "      <td>646.092906</td>\n",
       "      <td>NaN</td>\n",
       "      <td>NaN</td>\n",
       "      <td>NaN</td>\n",
       "      <td>20.618</td>\n",
       "      <td>2.070</td>\n",
       "      <td>1098.404</td>\n",
       "      <td>0.066</td>\n",
       "    </tr>\n",
       "    <tr>\n",
       "      <th>4</th>\n",
       "      <td>6</td>\n",
       "      <td>162.500000</td>\n",
       "      <td>137.831579</td>\n",
       "      <td>58.431482</td>\n",
       "      <td>41.380502</td>\n",
       "      <td>3.50</td>\n",
       "      <td>41.706336</td>\n",
       "      <td>19.606</td>\n",
       "      <td>2.163</td>\n",
       "      <td>686.300</td>\n",
       "      <td>127.023</td>\n",
       "    </tr>\n",
       "  </tbody>\n",
       "</table>\n",
       "</div>"
      ],
      "text/plain": [
       "   subject_id  IgG-PT_day14  IgG-FHA_day14  IgG-PRN_day14  Monocytes_day1  \\\n",
       "0           1    229.603692       0.064000    1039.814648             NaN   \n",
       "1           3    129.197956     640.894817    1030.816658             NaN   \n",
       "2           4    105.426574     162.807830     874.712337        7.211965   \n",
       "3           5     97.743258       0.064000     646.092906             NaN   \n",
       "4           6    162.500000     137.831579      58.431482       41.380502   \n",
       "\n",
       "   ASCs (Plasmablasts)_day7  CD4Tcells_day3  CCL3_day3  IL-6_day3  \\\n",
       "0                       NaN             NaN     46.410      3.814   \n",
       "1                       NaN             NaN     26.204      2.646   \n",
       "2                      1.77        8.700555     13.353      3.770   \n",
       "3                       NaN             NaN     20.618      2.070   \n",
       "4                      3.50       41.706336     19.606      2.163   \n",
       "\n",
       "   NFKBIA_day7  XIST_day14  \n",
       "0      651.685     146.247  \n",
       "1      575.733     121.084  \n",
       "2      550.870       0.132  \n",
       "3     1098.404       0.066  \n",
       "4      686.300     127.023  "
      ]
     },
     "execution_count": 38,
     "metadata": {},
     "output_type": "execute_result"
    }
   ],
   "source": [
    "master_tasks.head()"
   ]
  },
  {
   "cell_type": "markdown",
   "id": "944f2daf",
   "metadata": {},
   "source": [
    "## Providing meta data into a basic format"
   ]
  },
  {
   "cell_type": "code",
   "execution_count": 39,
   "id": "e8f2bfbc",
   "metadata": {},
   "outputs": [
    {
     "name": "stderr",
     "output_type": "stream",
     "text": [
      "/mnt/BioHome/jreyna/.local/lib/python3.6/site-packages/pandas/core/frame.py:4174: SettingWithCopyWarning: \n",
      "A value is trying to be set on a copy of a slice from a DataFrame\n",
      "\n",
      "See the caveats in the documentation: https://pandas.pydata.org/pandas-docs/stable/user_guide/indexing.html#returning-a-view-versus-a-copy\n",
      "  errors=errors,\n"
     ]
    }
   ],
   "source": [
    "twenty_basic_meta = twenty_data['master_meta'].drop_duplicates('subject_id')\n",
    "drop_cols = ['specimen_id', 'actual_day_relative_to_boost', 'planned_day_relative_to_boost', 'visit', 'dataset']\n",
    "twenty_basic_meta.drop(drop_cols, axis=1, inplace=True)\n",
    "\n",
    "twenty_basic_fn = os.path.join(harmony_dir, 'clinical_metadata.2020.tsv.gz')\n",
    "twenty_basic_meta.to_csv(twenty_basic_fn, sep='\\t', index=False)"
   ]
  },
  {
   "cell_type": "code",
   "execution_count": 40,
   "id": "7b7c86df",
   "metadata": {},
   "outputs": [],
   "source": [
    "twentyone_basic_meta = twentyone_data['master_meta'].drop_duplicates('subject_id')\n",
    "twentyone_basic_meta.drop(drop_cols, axis=1, inplace=True)\n",
    "\n",
    "twentyone_basic_fn = os.path.join(harmony_dir, 'clinical_metadata.2021.tsv.gz')\n",
    "twentyone_basic_meta.to_csv(twentyone_basic_fn, sep='\\t', index=False)"
   ]
  }
 ],
 "metadata": {
  "kernelspec": {
   "display_name": "HiC",
   "language": "python",
   "name": "hic_tls"
  },
  "language_info": {
   "codemirror_mode": {
    "name": "ipython",
    "version": 3
   },
   "file_extension": ".py",
   "mimetype": "text/x-python",
   "name": "python",
   "nbconvert_exporter": "python",
   "pygments_lexer": "ipython3",
   "version": "3.6.7"
  }
 },
 "nbformat": 4,
 "nbformat_minor": 5
}
