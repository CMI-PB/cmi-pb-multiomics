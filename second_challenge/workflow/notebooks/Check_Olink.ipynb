{
 "cells": [
  {
   "cell_type": "code",
   "execution_count": 1,
   "id": "939d5915",
   "metadata": {},
   "outputs": [],
   "source": [
    "import os \n",
    "import pandas as pd \n",
    "os.chdir('/mnt/BioHome/jreyna/jreyna/projects/cmi-pb-preds/')"
   ]
  },
  {
   "cell_type": "code",
   "execution_count": 2,
   "id": "ee8132a1",
   "metadata": {},
   "outputs": [],
   "source": [
    "olink_2020 = 'results/main/cmi_pb_datasets/processed/harmonized/olink.2020.day0.pivoted.tsv.gz'\n",
    "olink_2020 = pd.read_table(olink_2020)\n",
    "\n",
    "olink_2021 = 'results/main/cmi_pb_datasets/processed/harmonized/olink.2021.day0.pivoted.tsv.gz'\n",
    "olink_2021 = pd.read_table(olink_2021)\n",
    "\n",
    "set_2020 = set(olink_2020.columns.tolist())\n",
    "set_2021 = set(olink_2021.columns.tolist())"
   ]
  },
  {
   "cell_type": "code",
   "execution_count": 3,
   "id": "45e2c857",
   "metadata": {},
   "outputs": [
    {
     "name": "stdout",
     "output_type": "stream",
     "text": [
      "Number of features in Olink 2020 data: 27\n"
     ]
    }
   ],
   "source": [
    "print('Number of features in Olink 2020 data: {}'.format(olink_2020.shape[1] - 1))"
   ]
  },
  {
   "cell_type": "code",
   "execution_count": 4,
   "id": "d54227c7",
   "metadata": {},
   "outputs": [
    {
     "name": "stdout",
     "output_type": "stream",
     "text": [
      "Number of features in Olink 2021 data: 27\n"
     ]
    }
   ],
   "source": [
    "print('Number of features in Olink 2021 data: {}'.format(olink_2021.shape[1] - 1))"
   ]
  },
  {
   "cell_type": "code",
   "execution_count": 5,
   "id": "7c3974ab",
   "metadata": {},
   "outputs": [],
   "source": [
    "overlapping_features = set_2020.intersection(set_2021)"
   ]
  },
  {
   "cell_type": "code",
   "execution_count": 6,
   "id": "1b161039",
   "metadata": {},
   "outputs": [
    {
     "data": {
      "text/plain": [
       "{'O14625',\n",
       " 'O43508',\n",
       " 'P01133',\n",
       " 'P01579',\n",
       " 'P02778',\n",
       " 'P05112',\n",
       " 'P05231',\n",
       " 'P09603',\n",
       " 'P10145',\n",
       " 'P10147',\n",
       " 'P13232',\n",
       " 'P13236',\n",
       " 'P13500',\n",
       " 'P14210',\n",
       " 'P15692',\n",
       " 'P22301',\n",
       " 'P35225',\n",
       " 'P39900',\n",
       " 'P48061',\n",
       " 'P50591',\n",
       " 'P51671',\n",
       " 'P80075',\n",
       " 'P80098',\n",
       " 'Q07325',\n",
       " 'Q14116',\n",
       " 'Q99616',\n",
       " 'Q99731',\n",
       " 'subject_id'}"
      ]
     },
     "execution_count": 6,
     "metadata": {},
     "output_type": "execute_result"
    }
   ],
   "source": [
    "overlapping_features"
   ]
  },
  {
   "cell_type": "code",
   "execution_count": 7,
   "id": "5382d79e",
   "metadata": {},
   "outputs": [
    {
     "name": "stdout",
     "output_type": "stream",
     "text": [
      "27\n"
     ]
    }
   ],
   "source": [
    "print(len(overlapping_features) - 1)"
   ]
  },
  {
   "cell_type": "code",
   "execution_count": null,
   "id": "c54dab02",
   "metadata": {},
   "outputs": [],
   "source": []
  },
  {
   "cell_type": "code",
   "execution_count": null,
   "id": "bc2e851a",
   "metadata": {},
   "outputs": [],
   "source": []
  },
  {
   "cell_type": "code",
   "execution_count": null,
   "id": "1cff5cd1",
   "metadata": {},
   "outputs": [],
   "source": []
  },
  {
   "cell_type": "code",
   "execution_count": null,
   "id": "1237da7d",
   "metadata": {},
   "outputs": [],
   "source": []
  },
  {
   "cell_type": "code",
   "execution_count": null,
   "id": "96a06e77",
   "metadata": {},
   "outputs": [],
   "source": []
  }
 ],
 "metadata": {
  "kernelspec": {
   "display_name": "HiChIP DB",
   "language": "python",
   "name": "hichip-db"
  },
  "language_info": {
   "codemirror_mode": {
    "name": "ipython",
    "version": 3
   },
   "file_extension": ".py",
   "mimetype": "text/x-python",
   "name": "python",
   "nbconvert_exporter": "python",
   "pygments_lexer": "ipython3",
   "version": "3.10.2"
  }
 },
 "nbformat": 4,
 "nbformat_minor": 5
}
