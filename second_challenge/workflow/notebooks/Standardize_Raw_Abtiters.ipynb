{
 "cells": [
  {
   "cell_type": "code",
   "execution_count": 1,
   "id": "f4a0440e",
   "metadata": {},
   "outputs": [],
   "source": [
    "import os \n",
    "import pandas as pd \n",
    "import numpy as np \n",
    "os.chdir('/mnt/BioHome/jreyna/jreyna/projects/cmi-pb-preds/')\n",
    "outdir = 'results/main/cmi_pb_datasets/processed/'\n",
    "os.makedirs(outdir, exist_ok=True)"
   ]
  },
  {
   "cell_type": "markdown",
   "id": "57eda21a",
   "metadata": {},
   "source": [
    "IgG1 and IgG4 day 14 and day 0 values for PT, FHA, and Pertactin"
   ]
  },
  {
   "cell_type": "code",
   "execution_count": 2,
   "id": "97930d64",
   "metadata": {},
   "outputs": [],
   "source": [
    "assays = ('abtiters', 'cytof', 'olink', 'rnaseq')\n",
    "longnames = ('ab_titer', 'live_cell_percentages', 'olink_prot_exp', 'rnaseq')"
   ]
  },
  {
   "cell_type": "code",
   "execution_count": 3,
   "id": "ff8fee6a",
   "metadata": {},
   "outputs": [],
   "source": [
    "# loading gencode data\n",
    "gencode = pd.read_table('results/refs/gencode/gencode.v38lift37.annotation.protein_coding.bed', header=None)\n",
    "gencode.columns = ['chr', 'start', 'end', 'strand', 'gene_id', 'gene_name']\n",
    "gencode['gene_nonversioned_id'] = gencode['gene_id'].str.replace('\\..*', '')"
   ]
  },
  {
   "cell_type": "code",
   "execution_count": 4,
   "id": "af7c129f",
   "metadata": {},
   "outputs": [],
   "source": [
    "interm_dir = os.path.join(outdir, 'full')"
   ]
  },
  {
   "cell_type": "markdown",
   "id": "d53da804",
   "metadata": {},
   "source": [
    "## Load the 2020 data"
   ]
  },
  {
   "cell_type": "code",
   "execution_count": null,
   "id": "e5a72f1e",
   "metadata": {},
   "outputs": [],
   "source": [
    "twenty_data = {}\n",
    "\n",
    "# get meta master table\n",
    "for metatable in ('subject', 'specimen'): \n",
    "    fn = 'results/main/cmi_pb_datasets/raw/2020LD_{}.csv'.format(metatable)\n",
    "    df = pd.read_table(fn, sep=',')\n",
    "    twenty_data[metatable] = df\n",
    "    \n",
    "subjects = twenty_data['subject']\n",
    "specimen = twenty_data['specimen']\n",
    "master_meta = subjects.merge(specimen, on='subject_id')\n",
    "master_meta = master_meta[['subject_id',\n",
    "                           'specimen_id',\n",
    "                           'infancy_vac',\n",
    "                           'biological_sex',\n",
    "                           'year_of_birth',\n",
    "                           'date_of_boost',\n",
    "                           'actual_day_relative_to_boost',\n",
    "                           'planned_day_relative_to_boost',\n",
    "                           'ethnicity',\n",
    "                           'race',\n",
    "                           'dataset',\n",
    "                           'specimen_type',\n",
    "                           'visit']]\n",
    "\n",
    "# defining the meta columns (used to remove columns later one)\n",
    "meta_cols = ['specimen_id', 'infancy_vac', 'biological_sex',\n",
    "             'year_of_birth', 'date_of_boost', 'actual_day_relative_to_boost',\n",
    "             'ethnicity', 'race', 'dataset',\n",
    "             'specimen_type', 'visit']\n",
    "\n",
    "twenty_data['master_meta'] = master_meta\n",
    "\n",
    "# save meta\n",
    "meta_fn = os.path.join(interm_dir, 'meta.2020.pivoted.tsv')\n",
    "twenty_data['master_meta'].to_csv(meta_fn, sep='\\t')"
   ]
  },
  {
   "cell_type": "code",
   "execution_count": null,
   "id": "78dbd00d",
   "metadata": {},
   "outputs": [
    {
     "name": "stdout",
     "output_type": "stream",
     "text": [
      "results/main/cmi_pb_datasets/raw/2020LD_ab_titer.csv\n",
      "results/main/cmi_pb_datasets/raw/2020LD_live_cell_percentages.csv\n",
      "results/main/cmi_pb_datasets/raw/2020LD_olink_prot_exp.csv\n",
      "results/main/cmi_pb_datasets/raw/2020LD_rnaseq.csv\n"
     ]
    }
   ],
   "source": [
    "for i, longname in enumerate(longnames): \n",
    "    fn = 'results/main/cmi_pb_datasets/raw/2020LD_{}.csv'.format(longname)\n",
    "    df = pd.read_table(fn, sep=',')\n",
    "    \n",
    "    print(fn)\n",
    "        \n",
    "    if assays[i] == 'rnaseq':\n",
    "        df.loc[:, 'ensembl_gene_id'] = df.loc[:, 'versioned_ensembl_gene_id'].str.replace('\\.[0-9]+', '')\n",
    "        df = df.pivot(index='specimen_id', columns='ensembl_gene_id', values='tpm')\n",
    "        df = master_meta.merge(df, on='specimen_id')\n",
    "        \n",
    "    elif assays[i] == 'cytof':\n",
    "        df = df.pivot(index='specimen_id', columns='cell_type_name', values='percent_live_cell')\n",
    "        df = master_meta.merge(df, on='specimen_id')\n",
    "        \n",
    "    elif assays[i] == 'olink':\n",
    "        # Still getting duplicate specimens? \n",
    "        df = df[df['unit'] == \"Normalized Protein eXpression\"]\n",
    "        df = df[df['quality_control'] == 'Pass']\n",
    "        df = df[df['protein_expression'] > df['lower_limit_of_quantitation']]\n",
    "        df = df.pivot(index='specimen_id', columns='uniprot_id', values='protein_expression')\n",
    "        df = master_meta.merge(df, on='specimen_id')      \n",
    "        \n",
    "    elif assays[i] == 'abtiters':\n",
    "        aglist = ['1% PFA PT', 'PT', 'PRN', 'FHA', 'FIM2/3']\n",
    "        df = df.loc[df.antigen.isin(aglist), :]\n",
    "        df['antigen'].replace(to_replace='1% PFA PT', value='PT', inplace=True)\n",
    "        df['isotype_antigen'] = df['isotype'] + '-' + df['antigen']\n",
    "        df = df.pivot(index='specimen_id', columns='isotype_antigen', values='MFI_normalised')\n",
    "        df = master_meta.merge(df, on='specimen_id')  \n",
    "\n",
    "    twenty_data[assays[i]] = df.drop(meta_cols, axis=1)    "
   ]
  },
  {
   "cell_type": "code",
   "execution_count": null,
   "id": "5aae310b",
   "metadata": {},
   "outputs": [
    {
     "name": "stdout",
     "output_type": "stream",
     "text": [
      "subject 60\n",
      "specimen 60\n",
      "master_meta 60\n",
      "abtiters 58\n",
      "cytof 20\n",
      "olink 18\n",
      "rnaseq 36\n"
     ]
    }
   ],
   "source": [
    "for assay, df in twenty_data.items():\n",
    "    print(assay, df.subject_id.nunique())"
   ]
  },
  {
   "cell_type": "code",
   "execution_count": null,
   "id": "022e35db",
   "metadata": {},
   "outputs": [
    {
     "name": "stdout",
     "output_type": "stream",
     "text": [
      "abtiters\n",
      "0 (58, 25)\n",
      "1 (57, 25)\n",
      "3 (57, 25)\n",
      "7 (57, 25)\n",
      "14 (57, 25)\n",
      "30 (54, 25)\n",
      "90 (51, 25)\n",
      "386 (1, 25)\n",
      "402 (1, 25)\n",
      "428 (1, 25)\n",
      "cytof\n",
      "0 (20, 27)\n",
      "1 (20, 27)\n",
      "3 (20, 27)\n",
      "7 (20, 27)\n",
      "14 (20, 27)\n",
      "olink\n",
      "0 (18, 258)\n",
      "1 (18, 258)\n",
      "3 (18, 258)\n",
      "7 (18, 258)\n",
      "14 (18, 258)\n",
      "rnaseq\n",
      "0 (36, 58349)\n",
      "1 (36, 58349)\n",
      "3 (36, 58349)\n"
     ]
    }
   ],
   "source": [
    "# save a dataframe for each assay on each day\n",
    "for assay, df in twenty_data.items():\n",
    "    if assay in ['cytof', 'olink', 'rnaseq', 'abtiters']:\n",
    "        print(assay)\n",
    "        for day, day_df in df.groupby('planned_day_relative_to_boost'):\n",
    "            outfn = os.path.join(interm_dir, '{}.2020.day{}.pivoted.tsv'.format(assay, day))\n",
    "            day_df.drop('planned_day_relative_to_boost', axis=1).to_csv(outfn, index=False, sep='\\t')\n",
    "            print(day, day_df.shape)"
   ]
  },
  {
   "cell_type": "markdown",
   "id": "27f3f979",
   "metadata": {},
   "source": [
    "# Load the 2021 data"
   ]
  },
  {
   "cell_type": "code",
   "execution_count": null,
   "id": "1367bde4",
   "metadata": {},
   "outputs": [],
   "source": [
    "twentyone_data = {}\n",
    "\n",
    "# get meta master table\n",
    "for metatable in ('subject', 'specimen'): \n",
    "    fn = 'results/main/cmi_pb_datasets/raw/2021BD_{}.csv'.format(metatable)\n",
    "    df = pd.read_table(fn, sep=',')\n",
    "    twentyone_data[metatable] = df\n",
    "    \n",
    "subjects = twentyone_data['subject']\n",
    "specimen = twentyone_data['specimen']\n",
    "master_meta = subjects.merge(specimen, on='subject_id')\n",
    "master_meta = master_meta[['subject_id',\n",
    "                           'specimen_id',\n",
    "                           'infancy_vac',\n",
    "                           'biological_sex',\n",
    "                           'year_of_birth',\n",
    "                           'date_of_boost',\n",
    "                           'actual_day_relative_to_boost',\n",
    "                           'planned_day_relative_to_boost',\n",
    "                           'ethnicity',\n",
    "                           'race',\n",
    "                           'dataset',\n",
    "                           'specimen_type',\n",
    "                           'visit']]\n",
    "twentyone_data['master_meta'] = master_meta"
   ]
  },
  {
   "cell_type": "code",
   "execution_count": null,
   "id": "b4efa6f3",
   "metadata": {},
   "outputs": [],
   "source": [
    "for i, longname in enumerate(longnames): \n",
    "        \n",
    "    fn = 'results/main/cmi_pb_datasets/raw/2021BD_{}.csv'.format(longname)\n",
    "    df = pd.read_table(fn, sep=',')\n",
    "    \n",
    "    if assays[i] == 'rnaseq':\n",
    "        df.loc[:, 'ensembl_gene_id'] = df.loc[:, 'versioned_ensembl_gene_id'].str.replace('\\.[0-9]+', '')\n",
    "        df = df.pivot(index='specimen_id', columns='ensembl_gene_id', values='tpm')\n",
    "        df = master_meta.merge(df, on='specimen_id')\n",
    "                \n",
    "    elif assays[i] == 'cytof':\n",
    "        df = df.pivot(index='specimen_id', columns='cell_type_name', values='percent_live_cell')\n",
    "        df = master_meta.merge(df, on='specimen_id')\n",
    "        \n",
    "    elif assays[i] == 'olink':\n",
    "        df = df.pivot(index='specimen_id', columns='uniprot_id', values='protein_expression')\n",
    "        df = master_meta.merge(df, on='specimen_id')       \n",
    "        \n",
    "    elif assays[i] == 'abtiters':\n",
    "        aglist = ['PT', 'PRN', 'FHA', 'FIM2/3']\n",
    "        df = df.loc[df.antigen.isin(aglist), :]\n",
    "        df['isotype_antigen'] = df['isotype'] + '-' + df['antigen']\n",
    "        df = df.pivot(index='specimen_id', columns='isotype_antigen', values='MFI_normalised')\n",
    "        df = master_meta.merge(df, on='specimen_id')  \n",
    "          \n",
    "    twentyone_data[assays[i]] = df.drop(meta_cols, axis=1)\n",
    "    "
   ]
  },
  {
   "cell_type": "code",
   "execution_count": null,
   "id": "29676087",
   "metadata": {},
   "outputs": [],
   "source": [
    "longname = 'live_cell_percentages'\n",
    "df = 'results/main/cmi_pb_datasets/raw/2021BD_{}.csv'.format(longname)\n",
    "\n",
    "df = pd.read_table(df, sep=',')\n",
    "\n",
    "df = df.pivot(index='specimen_id', columns='cell_type_name', values='percent_live_cell')\n",
    "df = master_meta.merge(df, on='specimen_id')"
   ]
  },
  {
   "cell_type": "code",
   "execution_count": null,
   "id": "1cb891b7",
   "metadata": {
    "scrolled": true
   },
   "outputs": [],
   "source": [
    "for assay, df in twentyone_data.items():\n",
    "    print(assay, df.subject_id.nunique())"
   ]
  },
  {
   "cell_type": "code",
   "execution_count": null,
   "id": "711275f8",
   "metadata": {},
   "outputs": [],
   "source": [
    "os.makedirs(interm_dir, exist_ok=True)\n",
    "\n",
    "# save abtiters  \n",
    "abtiters_fn = os.path.join(interm_dir, 'abtiters.2021.day0.pivoted.tsv')\n",
    "twentyone_data['abtiters'].drop('planned_day_relative_to_boost', axis=1).to_csv(abtiters_fn, index=False, sep='\\t')\n",
    "\n",
    "# save cytof \n",
    "cytof_fn = os.path.join(interm_dir, 'cytof.2021.day0.pivoted.tsv')\n",
    "twentyone_data['cytof'].drop('planned_day_relative_to_boost', axis=1).to_csv(cytof_fn, index=False, sep='\\t')\n",
    "\n",
    "# save olink\n",
    "olink_fn = os.path.join(interm_dir, 'olink.2021.day0.pivoted.tsv')\n",
    "twentyone_data['olink'].drop('planned_day_relative_to_boost', axis=1).to_csv(olink_fn, index=False, sep='\\t')\n",
    "\n",
    "# save rnaseq\n",
    "rnaseq_fn = os.path.join(interm_dir, 'rnaseq.2021.day0.pivoted.tsv')\n",
    "twentyone_data['rnaseq'].drop('planned_day_relative_to_boost', axis=1).to_csv(rnaseq_fn, index=False, sep='\\t')\n",
    "\n",
    "# save meta\n",
    "meta_fn = os.path.join(interm_dir, 'meta.2021.pivoted.tsv')\n",
    "twentyone_data['master_meta'].to_csv(meta_fn, index=False, sep='\\t')"
   ]
  },
  {
   "cell_type": "code",
   "execution_count": null,
   "id": "a7ac8229",
   "metadata": {},
   "outputs": [],
   "source": [
    "# summary21 = []\n",
    "# for assay, df in twentyone_data.items():\n",
    "#     summary21.append([assay, df.subject_id.nunique()])\n",
    "\n",
    "# summary20 = []\n",
    "# for assay, df in twenty_data.items():\n",
    "#     summary20.append([df.subject_id.nunique()])\n",
    "\n",
    "# summary = pd.concat([pd.DataFrame(summary21), pd.DataFrame(summary20)], axis=1)\n",
    "# summary.columns = ('table', 'nsamples21', 'nsamples20')\n",
    "# summary = summary[['table', 'nsamples20', 'nsamples21']]"
   ]
  },
  {
   "cell_type": "code",
   "execution_count": null,
   "id": "e01d81e1",
   "metadata": {},
   "outputs": [],
   "source": [
    "# fn = 'results/main/cmi_pb_datasets/2020LD_{}.csv'.format('olink_prot_exp')\n",
    "# df = pd.read_table(fn, sep=',')"
   ]
  },
  {
   "cell_type": "markdown",
   "id": "0a8f4918",
   "metadata": {},
   "source": [
    "## Standardize Ab Titers"
   ]
  },
  {
   "cell_type": "code",
   "execution_count": null,
   "id": "5a9d7a65",
   "metadata": {},
   "outputs": [],
   "source": [
    "abtiters_overlap = set(twenty_data['abtiters'].columns).intersection(twentyone_data['abtiters'].columns.tolist())\n",
    "abtiters_overlap.discard('planned_day_relative_to_boost')\n",
    "abtiters_overlap.discard('subject_id')\n",
    "abtiters_overlap = sorted(abtiters_overlap)"
   ]
  },
  {
   "cell_type": "code",
   "execution_count": null,
   "id": "8661b7c6",
   "metadata": {},
   "outputs": [],
   "source": [
    "twenty_data['abtiters_harmonized'] = twenty_data['abtiters'].\\\n",
    "        loc[twenty_data['abtiters'].planned_day_relative_to_boost == 0, ]\n",
    "twenty_data['abtiters_harmonized'] = twenty_data['abtiters_harmonized'].loc[:, ['subject_id'] + abtiters_overlap]\n",
    "new_abtiters_fn = os.path.join(harmony_dir, 'abtiters.2020.day0.pivoted.tsv')\n",
    "twenty_data['abtiters_harmonized'].to_csv(new_abtiters_fn, sep='\\t', index=False)"
   ]
  },
  {
   "cell_type": "code",
   "execution_count": null,
   "id": "bdfd4b9b",
   "metadata": {},
   "outputs": [],
   "source": [
    "twentyone_data['abtiters_harmonized'] = twentyone_data['abtiters'].\\\n",
    "        loc[twentyone_data['abtiters'].planned_day_relative_to_boost == 0, ]\n",
    "twentyone_data['abtiters_harmonized'] = twentyone_data['abtiters_harmonized'].loc[:, ['subject_id'] + abtiters_overlap]\n",
    "new_abtiters_fn = os.path.join(harmony_dir, 'abtiters.2021.day0.pivoted.tsv')\n",
    "twentyone_data['abtiters_harmonized'].to_csv(new_abtiters_fn, sep='\\t', index=False)"
   ]
  },
  {
   "cell_type": "markdown",
   "id": "015153cb",
   "metadata": {},
   "source": [
    "## Providing all task vectors for training"
   ]
  },
  {
   "cell_type": "code",
   "execution_count": null,
   "id": "f30ad7a7",
   "metadata": {},
   "outputs": [],
   "source": [
    "from IPython.display import display"
   ]
  },
  {
   "cell_type": "code",
   "execution_count": null,
   "id": "638c9c3a",
   "metadata": {},
   "outputs": [],
   "source": [
    "# Loading the table describing each task \n",
    "tasks = pd.read_table('results/refs/tasks.tsv')\n",
    "\n",
    "# Making a task vector using GENE IDS for RNA based tasks\n",
    "i = 1\n",
    "for idd, task in tasks.iterrows():\n",
    "    \n",
    "    # extracting the required columns\n",
    "    cols = ['subject_id', task.fetchname]\n",
    "    task_data = twenty_data[task.assay]\n",
    "    task_data = task_data.loc[(task_data.planned_day_relative_to_boost == task.day), cols]\n",
    "    task_data.columns = ['subject_id', task.fetchname + '_day' + str(task.day)]    \n",
    "    \n",
    "    # merging the data together\n",
    "    if i == 1: \n",
    "        master_tasks = task_data\n",
    "    else:\n",
    "        master_tasks = master_tasks.merge(task_data, on='subject_id', how='outer')\n",
    "    i += 1 \n",
    "\n",
    "# saving the task matrix \n",
    "task_fn = os.path.join(harmony_dir, 'task_matrix.feature_names.tsv')\n",
    "master_tasks.to_csv(task_fn, sep='\\t', index=False)\n",
    "\n",
    "# Making a task vector using GENE NAMES for RNA based tasks\n",
    "i = 1\n",
    "for idd, task in tasks.iterrows():\n",
    "    \n",
    "    # extracting the required columns\n",
    "    cols = ['subject_id', task.fetchname]\n",
    "    task_data = twenty_data[task.assay]\n",
    "    task_data = task_data.loc[(task_data.planned_day_relative_to_boost == task.day), cols]\n",
    "    \n",
    "    if task.assay == 'rnaseq':\n",
    "        task_data.columns = ['subject_id', task.fullname + '_day' + str(task.day)]    \n",
    "    else:\n",
    "        task_data.columns = ['subject_id', task.fetchname + '_day' + str(task.day)]    \n",
    "    \n",
    "    # merging the data together\n",
    "    if i == 1: \n",
    "        master_tasks = task_data\n",
    "    else:\n",
    "        master_tasks = master_tasks.merge(task_data, on='subject_id', how='outer')\n",
    "    i += 1 \n",
    "\n",
    "# saving the task matrix \n",
    "task_fn = os.path.join(harmony_dir, 'task_matrix.common_names.tsv')\n",
    "master_tasks.to_csv(task_fn, sep='\\t', index=False)"
   ]
  },
  {
   "cell_type": "code",
   "execution_count": null,
   "id": "deba4c12",
   "metadata": {},
   "outputs": [],
   "source": [
    "twenty_data.keys()"
   ]
  },
  {
   "cell_type": "code",
   "execution_count": null,
   "id": "0d49a431",
   "metadata": {},
   "outputs": [],
   "source": [
    "master_tasks.head()"
   ]
  },
  {
   "cell_type": "markdown",
   "id": "5251bc5f",
   "metadata": {},
   "source": [
    "## Providing day 0 data for all task vectors (for fold change transformations)|"
   ]
  },
  {
   "cell_type": "code",
   "execution_count": null,
   "id": "cd7c5b07",
   "metadata": {},
   "outputs": [],
   "source": [
    "# Making a task vector using GENE IDS for RNA based tasks\n",
    "i = 1\n",
    "for idd, task in tasks.iterrows():\n",
    "    \n",
    "    # extracting the required columns\n",
    "    cols = ['subject_id', task.fetchname]\n",
    "    task_data = twenty_data[task.assay]\n",
    "    task_data = task_data.loc[(task_data.planned_day_relative_to_boost == 0), cols]\n",
    "    task_data.columns = ['subject_id', task.fetchname + '_day' + str(0)]    \n",
    "    \n",
    "    # merging the data together\n",
    "    if i == 1: \n",
    "        zero_day_tasks = task_data\n",
    "    else:\n",
    "        zero_day_tasks = zero_day_tasks.merge(task_data, on='subject_id', how='outer')\n",
    "    i += 1 \n",
    "\n",
    "# saving the task matrix \n",
    "task_fn = os.path.join(harmony_dir, 'zero_day_matrix.feature_names.tsv')\n",
    "zero_day_tasks.to_csv(task_fn, sep='\\t', index=False)"
   ]
  },
  {
   "cell_type": "code",
   "execution_count": null,
   "id": "177d6ed5",
   "metadata": {},
   "outputs": [],
   "source": [
    "# Making a task vector using GENE NAMES for RNA based tasks\n",
    "i = 1\n",
    "for idd, task in tasks.iterrows():\n",
    "    \n",
    "    # extracting the required columns\n",
    "    cols = ['subject_id', task.fetchname]\n",
    "    task_data = twenty_data[task.assay]\n",
    "    task_data = task_data.loc[(task_data.planned_day_relative_to_boost == 0), cols]\n",
    "    \n",
    "    if task.assay == 'rnaseq':\n",
    "        task_data.columns = ['subject_id', task.fullname + '_day' + str(0)]    \n",
    "    else:\n",
    "        task_data.columns = ['subject_id', task.fetchname + '_day' + str(0)]    \n",
    "    \n",
    "    # merging the data together\n",
    "    if i == 1: \n",
    "        zero_day_tasks = task_data\n",
    "    else:\n",
    "        zero_day_tasks = zero_day_tasks.merge(task_data, on='subject_id', how='outer')\n",
    "    i += 1 \n",
    "\n",
    "# saving the task matrix \n",
    "task_fn = os.path.join(harmony_dir, 'zero_day_matrix.common_names.tsv')\n",
    "zero_day_tasks.to_csv(task_fn, sep='\\t', index=False)"
   ]
  },
  {
   "cell_type": "code",
   "execution_count": null,
   "id": "e18411dd",
   "metadata": {},
   "outputs": [],
   "source": [
    "zero_day_tasks"
   ]
  },
  {
   "cell_type": "markdown",
   "id": "944f2daf",
   "metadata": {},
   "source": [
    "## Providing meta data into a basic format"
   ]
  },
  {
   "cell_type": "code",
   "execution_count": null,
   "id": "e8f2bfbc",
   "metadata": {},
   "outputs": [],
   "source": [
    "twenty_basic_meta = twenty_data['master_meta'].drop_duplicates('subject_id')\n",
    "drop_cols = ['specimen_id', 'actual_day_relative_to_boost', 'planned_day_relative_to_boost', 'visit', 'dataset']\n",
    "twenty_basic_meta.drop(drop_cols, axis=1, inplace=True)\n",
    "\n",
    "twenty_basic_fn = os.path.join(harmony_dir, 'clinical_metadata.2020.tsv')\n",
    "twenty_basic_meta.to_csv(twenty_basic_fn, sep='\\t', index=False)"
   ]
  },
  {
   "cell_type": "code",
   "execution_count": null,
   "id": "7b7c86df",
   "metadata": {},
   "outputs": [],
   "source": [
    "twentyone_basic_meta = twentyone_data['master_meta'].drop_duplicates('subject_id')\n",
    "twentyone_basic_meta.drop(drop_cols, axis=1, inplace=True)\n",
    "\n",
    "twentyone_basic_fn = os.path.join(harmony_dir, 'clinical_metadata.2021.tsv')\n",
    "twentyone_basic_meta.to_csv(twentyone_basic_fn, sep='\\t', index=False)"
   ]
  },
  {
   "cell_type": "markdown",
   "id": "57be5bb2",
   "metadata": {},
   "source": [
    "# Summarize the harmonization process"
   ]
  },
  {
   "cell_type": "code",
   "execution_count": null,
   "id": "ca204a16",
   "metadata": {},
   "outputs": [],
   "source": [
    "summary = []\n",
    "for assay in assays:\n",
    "    \n",
    "    harmonized_assay = '{}_harmonized'.format(assay)\n",
    "    summary.append([assay, \n",
    "                    twenty_data[assay].shape[1],\n",
    "                    twentyone_data[assay].shape[1], \n",
    "                    twentyone_data[harmonized_assay].shape[1]])\n",
    "\n",
    "summary = pd.DataFrame(summary)\n",
    "summary.columns = ['Assay', '2020', '2021', 'Harmonized']"
   ]
  },
  {
   "cell_type": "code",
   "execution_count": null,
   "id": "be81d853",
   "metadata": {},
   "outputs": [],
   "source": [
    "summary.sort_values('Assay')"
   ]
  }
 ],
 "metadata": {
  "kernelspec": {
   "display_name": "HiC",
   "language": "python",
   "name": "hic_tls"
  },
  "language_info": {
   "codemirror_mode": {
    "name": "ipython",
    "version": 3
   },
   "file_extension": ".py",
   "mimetype": "text/x-python",
   "name": "python",
   "nbconvert_exporter": "python",
   "pygments_lexer": "ipython3",
   "version": "3.6.7"
  }
 },
 "nbformat": 4,
 "nbformat_minor": 5
}
